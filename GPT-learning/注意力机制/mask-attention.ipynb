{
 "cells": [
  {
   "cell_type": "code",
   "execution_count": 1,
   "id": "078ce7c1",
   "metadata": {},
   "outputs": [],
   "source": [
    "import torch\n",
    "from torch import nn"
   ]
  },
  {
   "cell_type": "code",
   "execution_count": 4,
   "id": "69573143",
   "metadata": {},
   "outputs": [],
   "source": [
    "inputs = torch.tensor( \n",
    " [[0.43, 0.15, 0.89], # Your (x^1) \n",
    " [0.55, 0.87, 0.66], # journey (x^2) \n",
    " [0.57, 0.85, 0.64], # starts (x^3) \n",
    " [0.22, 0.58, 0.33], # with (x^4) \n",
    " [0.77, 0.25, 0.10], # one (x^5) \n",
    " [0.05, 0.80, 0.55]] # step (x^6) \n",
    ")\n",
    "d_in = inputs.shape[1]\n",
    "d_out = 2"
   ]
  },
  {
   "cell_type": "code",
   "execution_count": 5,
   "id": "5642ba35",
   "metadata": {},
   "outputs": [],
   "source": [
    "class SelfAttention(nn.Module):\n",
    "    def __init__(self, d_in, d_out, qkv_bias=False):\n",
    "        super().__init__()\n",
    "        self.w_query = nn.Linear(d_in, d_out, bias = qkv_bias)\n",
    "        self.w_key = nn.Linear(d_in, d_out, bias=qkv_bias) \n",
    "        self.w_value = nn.Linear(d_in, d_out, bias=qkv_bias)\n",
    "    def forward(self, x):\n",
    "        q = x @ w_query\n",
    "        k = x @ w_key\n",
    "        v = x @ w_value\n",
    "        attn_scores = q @ k.T\n",
    "        attn_weughts = torch.softmax(attn_scores / keys.shape[-1] ** 0.5, dim = -1)\n",
    "        context_vec = attn_weughts @ v\n",
    "        return context_vec"
   ]
  },
  {
   "cell_type": "markdown",
   "id": "da9b199d",
   "metadata": {},
   "source": [
    "### 因果注意力（掩码注意力）"
   ]
  },
  {
   "cell_type": "markdown",
   "id": "01526c7d",
   "metadata": {},
   "source": [
    "#### 只考虑小于等于当前位置的注意力分数"
   ]
  },
  {
   "cell_type": "markdown",
   "id": "2fcf4956",
   "metadata": {},
   "source": [
    "### 步骤1 计算完整注意力权重"
   ]
  },
  {
   "cell_type": "code",
   "execution_count": 6,
   "id": "e58e132e",
   "metadata": {},
   "outputs": [
    {
     "name": "stdout",
     "output_type": "stream",
     "text": [
      "tensor([[0.1692, 0.1621, 0.1623, 0.1693, 0.1701, 0.1670],\n",
      "        [0.1713, 0.1623, 0.1626, 0.1679, 0.1707, 0.1652],\n",
      "        [0.1712, 0.1625, 0.1627, 0.1678, 0.1705, 0.1652],\n",
      "        [0.1695, 0.1642, 0.1643, 0.1672, 0.1690, 0.1657],\n",
      "        [0.1677, 0.1666, 0.1666, 0.1661, 0.1671, 0.1658],\n",
      "        [0.1708, 0.1625, 0.1627, 0.1680, 0.1704, 0.1655]],\n",
      "       grad_fn=<SoftmaxBackward0>)\n"
     ]
    }
   ],
   "source": [
    "sa = SelfAttention(d_in, d_out)\n",
    "queries = sa.w_query(inputs)\n",
    "keys = sa.w_key(inputs)\n",
    "attn_scores = queries @ keys.T\n",
    "attn_weights = torch.softmax(attn_scores / keys.shape[-1] ** 0.5, dim = -1)\n",
    "print(attn_weights)"
   ]
  },
  {
   "cell_type": "markdown",
   "id": "8fe1a918",
   "metadata": {},
   "source": [
    "### 步骤2 将对角线元素置0"
   ]
  },
  {
   "cell_type": "code",
   "execution_count": 7,
   "id": "1bd67c65",
   "metadata": {},
   "outputs": [
    {
     "name": "stdout",
     "output_type": "stream",
     "text": [
      "tensor([[1., 0., 0., 0., 0., 0.],\n",
      "        [1., 1., 0., 0., 0., 0.],\n",
      "        [1., 1., 1., 0., 0., 0.],\n",
      "        [1., 1., 1., 1., 0., 0.],\n",
      "        [1., 1., 1., 1., 1., 0.],\n",
      "        [1., 1., 1., 1., 1., 1.]])\n"
     ]
    }
   ],
   "source": [
    "context_length = attn_scores.shape[0] \n",
    "mask_simple = torch.tril(torch.ones(context_length, context_length)) \n",
    "print(mask_simple)"
   ]
  },
  {
   "cell_type": "code",
   "execution_count": 12,
   "id": "f7906748",
   "metadata": {},
   "outputs": [
    {
     "name": "stdout",
     "output_type": "stream",
     "text": [
      "tensor([[0.1692, 0.0000, 0.0000, 0.0000, 0.0000, 0.0000],\n",
      "        [0.1713, 0.1623, 0.0000, 0.0000, 0.0000, 0.0000],\n",
      "        [0.1712, 0.1625, 0.1627, 0.0000, 0.0000, 0.0000],\n",
      "        [0.1695, 0.1642, 0.1643, 0.1672, 0.0000, 0.0000],\n",
      "        [0.1677, 0.1666, 0.1666, 0.1661, 0.1671, 0.0000],\n",
      "        [0.1708, 0.1625, 0.1627, 0.1680, 0.1704, 0.1655]],\n",
      "       grad_fn=<MulBackward0>)\n"
     ]
    }
   ],
   "source": [
    "masked_simple = attn_weights*mask_simple \n",
    "print(masked_simple)"
   ]
  },
  {
   "cell_type": "markdown",
   "id": "dd2d1764",
   "metadata": {},
   "source": [
    "### 步骤3 再归一化"
   ]
  },
  {
   "cell_type": "code",
   "execution_count": 15,
   "id": "8c5153c6",
   "metadata": {},
   "outputs": [
    {
     "name": "stdout",
     "output_type": "stream",
     "text": [
      "tensor([[-0.0819,    -inf,    -inf,    -inf,    -inf,    -inf],\n",
      "        [-0.0468, -0.1227,    -inf,    -inf,    -inf,    -inf],\n",
      "        [-0.0443, -0.1178, -0.1160,    -inf,    -inf,    -inf],\n",
      "        [-0.0235, -0.0685, -0.0674, -0.0426,    -inf,    -inf],\n",
      "        [ 0.0134,  0.0038,  0.0041, -0.0005,  0.0077,    -inf],\n",
      "        [-0.0498, -0.1206, -0.1188, -0.0730, -0.0530, -0.0944]],\n",
      "       grad_fn=<MaskedFillBackward0>)\n"
     ]
    }
   ],
   "source": [
    "mask = torch.triu(torch.ones(context_length, context_length), diagonal=1) \n",
    "masked = attn_scores.masked_fill(mask.bool(), -torch.inf) \n",
    "print(masked)"
   ]
  },
  {
   "cell_type": "code",
   "execution_count": 16,
   "id": "4af9ada6",
   "metadata": {},
   "outputs": [
    {
     "name": "stdout",
     "output_type": "stream",
     "text": [
      "tensor([[1.0000, 0.0000, 0.0000, 0.0000, 0.0000, 0.0000],\n",
      "        [0.5134, 0.4866, 0.0000, 0.0000, 0.0000, 0.0000],\n",
      "        [0.3448, 0.3274, 0.3278, 0.0000, 0.0000, 0.0000],\n",
      "        [0.2548, 0.2468, 0.2470, 0.2514, 0.0000, 0.0000],\n",
      "        [0.2011, 0.1997, 0.1998, 0.1991, 0.2003, 0.0000],\n",
      "        [0.1708, 0.1625, 0.1627, 0.1680, 0.1704, 0.1655]],\n",
      "       grad_fn=<SoftmaxBackward0>)\n"
     ]
    }
   ],
   "source": [
    "attn_weights = torch.softmax(masked / keys.shape[-1]**0.5, dim=1) \n",
    "print(attn_weights)"
   ]
  },
  {
   "cell_type": "markdown",
   "id": "7ede65d0",
   "metadata": {},
   "source": [
    "### 利用 dropout 掩码额外的注意力权重"
   ]
  },
  {
   "cell_type": "markdown",
   "id": "4e6aea92",
   "metadata": {},
   "source": [
    "#### 一是计算注意力权重之后，二是将这些权重应用于值向量之后。"
   ]
  },
  {
   "cell_type": "code",
   "execution_count": 18,
   "id": "9d9eb8a0",
   "metadata": {},
   "outputs": [
    {
     "name": "stdout",
     "output_type": "stream",
     "text": [
      "tensor([[2.0000, 0.0000, 0.0000, 0.0000, 0.0000, 0.0000],\n",
      "        [0.0000, 0.0000, 0.0000, 0.0000, 0.0000, 0.0000],\n",
      "        [0.6897, 0.6547, 0.6556, 0.0000, 0.0000, 0.0000],\n",
      "        [0.0000, 0.4936, 0.4940, 0.0000, 0.0000, 0.0000],\n",
      "        [0.0000, 0.3995, 0.0000, 0.3982, 0.0000, 0.0000],\n",
      "        [0.0000, 0.3250, 0.3254, 0.3361, 0.3409, 0.0000]],\n",
      "       grad_fn=<MulBackward0>)\n"
     ]
    }
   ],
   "source": [
    "torch.manual_seed(123) \n",
    "dropout = torch.nn.Dropout(0.5) \n",
    "torch.manual_seed(123) \n",
    "print(dropout(attn_weights))"
   ]
  },
  {
   "cell_type": "markdown",
   "id": "6e8d29fb",
   "metadata": {},
   "source": [
    "### 实现掩码注意力类"
   ]
  },
  {
   "cell_type": "code",
   "execution_count": 19,
   "id": "8b7c97d8",
   "metadata": {},
   "outputs": [
    {
     "name": "stdout",
     "output_type": "stream",
     "text": [
      "torch.Size([2, 6, 3])\n"
     ]
    }
   ],
   "source": [
    "batch = torch.stack((inputs, inputs), dim=0)\n",
    "print(batch.shape)"
   ]
  },
  {
   "cell_type": "code",
   "execution_count": 22,
   "id": "7ca52066",
   "metadata": {},
   "outputs": [],
   "source": [
    "class MaskAttention(nn.Module):\n",
    "    def __init__(self, d_in, d_out, context_length, dropout, \n",
    "                qkv_bais = False):\n",
    "        super().__init__()\n",
    "        self.d_out = d_out\n",
    "        self.wq = nn.Linear(d_in, d_out, bias=qkv_bais)\n",
    "        self.wk = nn.Linear(d_in, d_out, bias=qkv_bais)\n",
    "        self.wv = nn.Linear(d_in, d_out, bias=qkv_bais)\n",
    "        self.dropout = nn.Dropout(dropout)\n",
    "        self.mask = torch.triu(torch.ones(context_length, context_length))\n",
    "    def forward(self, x):\n",
    "        b, num_tokens, d_in = x.shape\n",
    "        q = self.wq(x)\n",
    "        k = self.wk(x)\n",
    "        v = self.wv(x)\n",
    "\n",
    "        attn_scores = q @ k.transpose(1, 2)\n",
    "        attn_scores.masked_fill_(\n",
    "            self.mask.bool()[:num_tokens, :num_tokens],\n",
    "            -torch.inf\n",
    "        )\n",
    "        attn_weights = torch.softmax(attn_scores / k.shape[-1] ** 0.5, dim = -1)\n",
    "        attn_weights = self.dropout(attn_weights)\n",
    "\n",
    "        context_vec = attn_weights @ v\n",
    "        return context_vec\n"
   ]
  },
  {
   "cell_type": "code",
   "execution_count": 23,
   "id": "9457ba46",
   "metadata": {},
   "outputs": [
    {
     "name": "stdout",
     "output_type": "stream",
     "text": [
      "context_vecs.shape: torch.Size([2, 6, 2])\n"
     ]
    }
   ],
   "source": [
    "torch.manual_seed(123) \n",
    "context_length = batch.shape[1] \n",
    "ca = MaskAttention(d_in, d_out, context_length, 0.0) \n",
    "context_vecs = ca(batch) \n",
    "print(\"context_vecs.shape:\", context_vecs.shape)"
   ]
  }
 ],
 "metadata": {
  "kernelspec": {
   "display_name": "base",
   "language": "python",
   "name": "python3"
  },
  "language_info": {
   "codemirror_mode": {
    "name": "ipython",
    "version": 3
   },
   "file_extension": ".py",
   "mimetype": "text/x-python",
   "name": "python",
   "nbconvert_exporter": "python",
   "pygments_lexer": "ipython3",
   "version": "3.12.7"
  }
 },
 "nbformat": 4,
 "nbformat_minor": 5
}
