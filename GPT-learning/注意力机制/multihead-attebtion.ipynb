{
 "cells": [
  {
   "cell_type": "code",
   "execution_count": 1,
   "id": "1f7bce46",
   "metadata": {},
   "outputs": [],
   "source": [
    "import torch\n",
    "from torch import nn"
   ]
  },
  {
   "cell_type": "code",
   "execution_count": 2,
   "id": "6469da93",
   "metadata": {},
   "outputs": [],
   "source": [
    "class MaskAttention(nn.Module):\n",
    "    def __init__(self, d_in, d_out, context_length, dropout, \n",
    "                qkv_bais = False):\n",
    "        super().__init__()\n",
    "        self.d_out = d_out\n",
    "        self.wq = nn.Linear(d_in, d_out, bias=qkv_bais)\n",
    "        self.wk = nn.Linear(d_in, d_out, bias=qkv_bais)\n",
    "        self.wv = nn.Linear(d_in, d_out, bias=qkv_bais)\n",
    "        self.dropout = nn.Dropout(dropout)\n",
    "        self.mask = torch.triu(torch.ones(context_length, context_length))\n",
    "    def forward(self, x):\n",
    "        b, num_tokens, d_in = x.shape\n",
    "        q = self.wq(x)\n",
    "        k = self.wk(x)\n",
    "        v = self.wv(x)\n",
    "\n",
    "        attn_scores = q @ k.transpose(1, 2)\n",
    "        attn_scores.masked_fill_(\n",
    "            self.mask.bool()[:num_tokens, :num_tokens],\n",
    "            -torch.inf\n",
    "        )\n",
    "        attn_weights = torch.softmax(attn_scores / k.shape[-1] ** 0.5, dim = -1)\n",
    "        attn_weights = self.dropout(attn_weights)\n",
    "\n",
    "        context_vec = attn_weights @ v\n",
    "        return context_vec"
   ]
  },
  {
   "cell_type": "code",
   "execution_count": 17,
   "id": "c119551b",
   "metadata": {},
   "outputs": [],
   "source": [
    "inputs = torch.tensor( \n",
    " [[0.43, 0.15, 0.89], # Your (x^1) \n",
    " [0.55, 0.87, 0.66], # journey (x^2) \n",
    " [0.57, 0.85, 0.64], # starts (x^3) \n",
    " [0.22, 0.58, 0.33], # with (x^4) \n",
    " [0.77, 0.25, 0.10], # one (x^5) \n",
    " [0.05, 0.80, 0.55]] # step (x^6) \n",
    ")\n",
    "d_in = inputs.shape[1]\n",
    "d_out = 2"
   ]
  },
  {
   "cell_type": "code",
   "execution_count": 18,
   "id": "e74b249b",
   "metadata": {},
   "outputs": [],
   "source": [
    "batch = torch.stack((inputs, inputs), dim=0)"
   ]
  },
  {
   "cell_type": "markdown",
   "id": "30d14f45",
   "metadata": {},
   "source": [
    "### 多头注意力"
   ]
  },
  {
   "cell_type": "markdown",
   "id": "6fa8cefa",
   "metadata": {},
   "source": [
    "#### 就是多个注意力叠加，有多个Wq,Wk，Wv，分别计算得到上下文后合并"
   ]
  },
  {
   "cell_type": "markdown",
   "id": "6adce2a1",
   "metadata": {},
   "source": [
    "#### 实现多头注意力封装类"
   ]
  },
  {
   "cell_type": "code",
   "execution_count": 21,
   "id": "8a0d596a",
   "metadata": {},
   "outputs": [],
   "source": [
    "class MultiHeadAttention(nn.Module):\n",
    "    def __init__(self, d_in, d_out, context_length, \n",
    "                 num_heads, dropout, qkv_bias = False):\n",
    "        super().__init__()\n",
    "        assert (d_out % num_heads == 0), \"d_out must be divisible by num_heads\"\n",
    "\n",
    "        self.d_out = d_out\n",
    "        self.num_heads = num_heads\n",
    "        self.head_dim = d_out // num_heads\n",
    "        self.wq = nn.Linear(d_in, d_out, bias=qkv_bias)\n",
    "        self.wk = nn.Linear(d_in, d_out, bias=qkv_bias)\n",
    "        self.wv = nn.Linear(d_in, d_out, bias=qkv_bias)\n",
    "        self.out_proj = nn.Linear(d_out, d_out)\n",
    "        self.dropout = nn.Dropout(dropout)\n",
    "        self.mask = torch.triu(torch.ones(context_length, context_length), diagonal=1)\n",
    "    def forward(self, x):\n",
    "        batch_size, num_tokens, d_in = x.shape\n",
    "        q = self.wq(x)\n",
    "        k = self.wk(x)\n",
    "        v = self.wv(x) # (batch_size, num_tokens, d_out)\n",
    "        q = q.view(batch_size, num_tokens, self.num_heads, self.head_dim)\n",
    "        k = k.view(batch_size, num_tokens, self.num_heads, self.head_dim)\n",
    "        v = v.view(batch_size, num_tokens, self.num_heads, self.head_dim) #(batch_size, num_tokens, num_heads, head_dim)\n",
    "\n",
    "        q = q.transpose(1, 2)\n",
    "        k = k.transpose(1, 2)\n",
    "        v = v.transpose(1, 2) #(batch_size, num_heads, num_tokens, head_dim)\n",
    "\n",
    "        #计算每个头的注意力分数\n",
    "        attn_scores = q @ k.transpose(2, 3)\n",
    "        mask_bool = self.mask.bool()[:num_tokens, :num_tokens]\n",
    "        attn_scores.masked_fill_(mask_bool, -torch.inf)\n",
    "\n",
    "        attn_weigths = torch.softmax(attn_scores / k.shape[-1] ** 0.5, dim=-1)\n",
    "        attn_weigths = self.dropout(attn_weigths)\n",
    "\n",
    "        context_vec = (attn_weigths @ v).transpose(1, 2)\n",
    "        context_vec = context_vec.contiguous().view(batch_size, num_tokens, self.d_out)\n",
    "        context_vec = self.out_proj(context_vec)\n",
    "        return context_vec"
   ]
  },
  {
   "cell_type": "code",
   "execution_count": 22,
   "id": "9561312a",
   "metadata": {},
   "outputs": [
    {
     "name": "stdout",
     "output_type": "stream",
     "text": [
      "tensor([[[0.3190, 0.4858],\n",
      "         [0.2943, 0.3897],\n",
      "         [0.2856, 0.3593],\n",
      "         [0.2693, 0.3873],\n",
      "         [0.2639, 0.3928],\n",
      "         [0.2575, 0.4028]],\n",
      "\n",
      "        [[0.3190, 0.4858],\n",
      "         [0.2943, 0.3897],\n",
      "         [0.2856, 0.3593],\n",
      "         [0.2693, 0.3873],\n",
      "         [0.2639, 0.3928],\n",
      "         [0.2575, 0.4028]]], grad_fn=<ViewBackward0>)\n",
      "context_vecs.shape: torch.Size([2, 6, 2])\n"
     ]
    }
   ],
   "source": [
    "torch.manual_seed(123) \n",
    "batch_size, context_length, d_in = batch.shape \n",
    "d_out = 2 \n",
    "mha = MultiHeadAttention(d_in, d_out, context_length, num_heads=2, dropout=0.0) \n",
    "context_vecs = mha(batch) \n",
    "print(context_vecs) \n",
    "print(\"context_vecs.shape:\", context_vecs.shape)"
   ]
  }
 ],
 "metadata": {
  "kernelspec": {
   "display_name": "base",
   "language": "python",
   "name": "python3"
  },
  "language_info": {
   "codemirror_mode": {
    "name": "ipython",
    "version": 3
   },
   "file_extension": ".py",
   "mimetype": "text/x-python",
   "name": "python",
   "nbconvert_exporter": "python",
   "pygments_lexer": "ipython3",
   "version": "3.12.7"
  }
 },
 "nbformat": 4,
 "nbformat_minor": 5
}
