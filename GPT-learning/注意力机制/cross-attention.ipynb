{
 "cells": [
  {
   "cell_type": "markdown",
   "id": "bfb1a83e",
   "metadata": {},
   "source": [
    "#### 交叉注意力，就是对子注意力的扩展，将序列A注意序列B\n",
    "#### 就是有A中每个token的q去注意B中每个token的k，然后在与B中每个token的v计算得到上下文向量"
   ]
  }
 ],
 "metadata": {
  "language_info": {
   "name": "python"
  }
 },
 "nbformat": 4,
 "nbformat_minor": 5
}
