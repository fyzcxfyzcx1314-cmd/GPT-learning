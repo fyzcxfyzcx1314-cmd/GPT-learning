{
 "cells": [
  {
   "cell_type": "markdown",
   "id": "2edeb30e",
   "metadata": {},
   "source": [
    "#### 双向注意力就是交叉注意力的扩展，不仅需要A注意B，同时B也要注意A，两个序列相互注意"
   ]
  }
 ],
 "metadata": {
  "language_info": {
   "name": "python"
  }
 },
 "nbformat": 4,
 "nbformat_minor": 5
}
