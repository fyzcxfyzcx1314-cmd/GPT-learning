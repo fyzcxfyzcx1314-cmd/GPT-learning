{
 "cells": [
  {
   "cell_type": "code",
   "execution_count": 15,
   "id": "cc03bd85",
   "metadata": {},
   "outputs": [],
   "source": [
    "import torch\n",
    "from torch import nn"
   ]
  },
  {
   "cell_type": "markdown",
   "id": "f1b8352b",
   "metadata": {},
   "source": [
    "### 缩放点积注意力"
   ]
  },
  {
   "cell_type": "code",
   "execution_count": 2,
   "id": "30c77511",
   "metadata": {},
   "outputs": [],
   "source": [
    "inputs = torch.tensor( \n",
    " [[0.43, 0.15, 0.89], # Your (x^1) \n",
    " [0.55, 0.87, 0.66], # journey (x^2) \n",
    " [0.57, 0.85, 0.64], # starts (x^3) \n",
    " [0.22, 0.58, 0.33], # with (x^4) \n",
    " [0.77, 0.25, 0.10], # one (x^5) \n",
    " [0.05, 0.80, 0.55]] # step (x^6) \n",
    ")"
   ]
  },
  {
   "cell_type": "code",
   "execution_count": 3,
   "id": "c9ec4619",
   "metadata": {},
   "outputs": [],
   "source": [
    "# 第二个作为查询\n",
    "x_2 = inputs[1]\n",
    "d_in = inputs.shape[1]\n",
    "d_out = 2"
   ]
  },
  {
   "cell_type": "code",
   "execution_count": 7,
   "id": "f9cf30a2",
   "metadata": {},
   "outputs": [],
   "source": [
    "# 初始化Wq，Wk，Wv\n",
    "torch.manual_seed(123)\n",
    "w_query = torch.nn.Parameter(torch.rand(d_in, d_out), requires_grad=False)\n",
    "w_key = torch.nn.Parameter(torch.rand(d_in, d_out), requires_grad=False)\n",
    "w_value = torch.nn.Parameter(torch.rand(d_in, d_out), requires_grad=False)"
   ]
  },
  {
   "cell_type": "code",
   "execution_count": 9,
   "id": "1404ec01",
   "metadata": {},
   "outputs": [
    {
     "name": "stdout",
     "output_type": "stream",
     "text": [
      "tensor([0.4306, 1.4551])\n"
     ]
    }
   ],
   "source": [
    "# 计算q，k，v\n",
    "query_2 = x_2 @ w_query\n",
    "key_2 = x_2 @ w_key\n",
    "value_2 = x_2 @ w_value\n",
    "print(query_2)"
   ]
  },
  {
   "cell_type": "code",
   "execution_count": 10,
   "id": "9297ff6f",
   "metadata": {},
   "outputs": [
    {
     "name": "stdout",
     "output_type": "stream",
     "text": [
      "keys shape:  torch.Size([6, 2])\n",
      "values shape:  torch.Size([6, 2])\n"
     ]
    }
   ],
   "source": [
    "# 所有输入元素的k，v\n",
    "keys = inputs @ w_key\n",
    "values = inputs @ w_value\n",
    "print(\"keys shape: \", keys.shape)\n",
    "print(\"values shape: \", values.shape)"
   ]
  },
  {
   "cell_type": "code",
   "execution_count": null,
   "id": "bf805f1a",
   "metadata": {},
   "outputs": [
    {
     "name": "stdout",
     "output_type": "stream",
     "text": [
      "tensor([1.2705, 1.8524, 1.8111, 1.0795, 0.5577, 1.5440])\n"
     ]
    }
   ],
   "source": [
    "# 计算注意力分数 q*v.T\n",
    "attn_scores_2 = query_2 @ keys.T\n",
    "print(attn_scores_2)"
   ]
  },
  {
   "cell_type": "code",
   "execution_count": 13,
   "id": "17946455",
   "metadata": {},
   "outputs": [
    {
     "name": "stdout",
     "output_type": "stream",
     "text": [
      "tensor([0.1500, 0.2264, 0.2199, 0.1311, 0.0906, 0.1820])\n"
     ]
    }
   ],
   "source": [
    "# softmax得到注意力权重\n",
    "d_k = keys.shape[-1]\n",
    "attn_weights_2 = torch.softmax(attn_scores_2 / d_k**0.5, dim=-1) \n",
    "print(attn_weights_2)"
   ]
  },
  {
   "cell_type": "code",
   "execution_count": 14,
   "id": "efbc22cc",
   "metadata": {},
   "outputs": [
    {
     "name": "stdout",
     "output_type": "stream",
     "text": [
      "tensor([0.3061, 0.8210])\n"
     ]
    }
   ],
   "source": [
    "# 计算上下文 weights * v\n",
    "context_vec_2 = attn_weights_2 @ values\n",
    "print(context_vec_2)"
   ]
  },
  {
   "cell_type": "markdown",
   "id": "2b38956b",
   "metadata": {},
   "source": [
    "# 构建子注意力类"
   ]
  },
  {
   "cell_type": "code",
   "execution_count": 16,
   "id": "6f3a68c3",
   "metadata": {},
   "outputs": [],
   "source": [
    "class SelfAttention(nn.Module):\n",
    "    def __init__(self, d_in, d_out, qkv_bias=False):\n",
    "        super().__init__()\n",
    "        self.w_query = nn.Linear(d_in, d_out, bias = qkv_bias)\n",
    "        self.W_key = nn.Linear(d_in, d_out, bias=qkv_bias) \n",
    "        self.W_value = nn.Linear(d_in, d_out, bias=qkv_bias)\n",
    "    def forward(self, x):\n",
    "        q = x @ w_query\n",
    "        k = x @ w_key\n",
    "        v = x @ w_value\n",
    "        attn_scores = q @ k.T\n",
    "        attn_weughts = torch.softmax(attn_scores / keys.shape[-1] ** 0.5, dim = -1)\n",
    "        context_vec = attn_weughts @ v\n",
    "        return context_vec"
   ]
  },
  {
   "cell_type": "code",
   "execution_count": 18,
   "id": "23a51943",
   "metadata": {},
   "outputs": [
    {
     "name": "stdout",
     "output_type": "stream",
     "text": [
      "tensor([[0.2996, 0.8053],\n",
      "        [0.3061, 0.8210],\n",
      "        [0.3058, 0.8203],\n",
      "        [0.2948, 0.7939],\n",
      "        [0.2927, 0.7891],\n",
      "        [0.2990, 0.8040]])\n"
     ]
    }
   ],
   "source": [
    "torch.manual_seed(789) \n",
    "sa_v2 = SelfAttention(d_in, d_out) \n",
    "print(sa_v2(inputs))"
   ]
  }
 ],
 "metadata": {
  "kernelspec": {
   "display_name": "base",
   "language": "python",
   "name": "python3"
  },
  "language_info": {
   "codemirror_mode": {
    "name": "ipython",
    "version": 3
   },
   "file_extension": ".py",
   "mimetype": "text/x-python",
   "name": "python",
   "nbconvert_exporter": "python",
   "pygments_lexer": "ipython3",
   "version": "3.12.7"
  }
 },
 "nbformat": 4,
 "nbformat_minor": 5
}
