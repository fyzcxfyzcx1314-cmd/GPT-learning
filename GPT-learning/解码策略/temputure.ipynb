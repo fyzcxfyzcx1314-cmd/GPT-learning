{
 "cells": [
  {
   "cell_type": "code",
   "execution_count": 1,
   "id": "15895004",
   "metadata": {},
   "outputs": [],
   "source": [
    "import torch"
   ]
  },
  {
   "cell_type": "markdown",
   "id": "b8747e9c",
   "metadata": {},
   "source": [
    "### 温度缩放"
   ]
  },
  {
   "cell_type": "markdown",
   "id": "1bdec610",
   "metadata": {},
   "source": [
    "#### multinomial 函数按照其概率分数采样下一个词元。换句话说，forward 仍然是最可能的词元，大多数时间（但不是每次）都会被 multinomial 选中"
   ]
  },
  {
   "cell_type": "code",
   "execution_count": null,
   "id": "a88ab1f1",
   "metadata": {},
   "outputs": [],
   "source": [
    "# 使用multinomial函数代替argmax\n",
    "torch.manual_seed(123) \n",
    "next_token_id = torch.multinomial(probas, num_samples=1).item() \n",
    "print(inverse_vocab[next_token_id])"
   ]
  },
  {
   "cell_type": "code",
   "execution_count": null,
   "id": "15fb772d",
   "metadata": {},
   "outputs": [],
   "source": [
    "def softmax_with_temperature(logits, temperature): \n",
    " scaled_logits = logits / temperature \n",
    " return torch.softmax(scaled_logits, dim=0)"
   ]
  },
  {
   "cell_type": "markdown",
   "id": "74460408",
   "metadata": {},
   "source": [
    "#### 所以我们引入温度的概念，温度缩放指的是将 logits除以一个大于 0 的数\n",
    "#### 当温度大于1时， 会导致词元概率更加均匀，也就是更有可能选择其他概率的词\n",
    "#### 当温度小于1时，是的输出将更加自信"
   ]
  }
 ],
 "metadata": {
  "kernelspec": {
   "display_name": "base",
   "language": "python",
   "name": "python3"
  },
  "language_info": {
   "codemirror_mode": {
    "name": "ipython",
    "version": 3
   },
   "file_extension": ".py",
   "mimetype": "text/x-python",
   "name": "python",
   "nbconvert_exporter": "python",
   "pygments_lexer": "ipython3",
   "version": "3.12.7"
  }
 },
 "nbformat": 4,
 "nbformat_minor": 5
}
