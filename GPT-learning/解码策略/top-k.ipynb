{
 "cells": [
  {
   "cell_type": "code",
   "execution_count": 1,
   "id": "d1d993b8",
   "metadata": {},
   "outputs": [],
   "source": [
    "import torch"
   ]
  },
  {
   "cell_type": "markdown",
   "id": "0817c1d5",
   "metadata": {},
   "source": [
    "### top-k策略"
   ]
  },
  {
   "cell_type": "markdown",
   "id": "542a5983",
   "metadata": {},
   "source": [
    "#### Top-k 采样中，可以将采样的词元限制在前 k 个最可能的词元上，并通过掩码概率分数的方式来排除其他词元"
   ]
  },
  {
   "cell_type": "markdown",
   "id": "c3f19794",
   "metadata": {},
   "source": [
    "#### Top-k 方法用负无穷值（-inf）替换所有未选择的 logits，因此在计算 softmax 值时，非前 k词元的概率分数为 0，剩余的概率总和为 1。"
   ]
  },
  {
   "cell_type": "code",
   "execution_count": null,
   "id": "86dbab8c",
   "metadata": {},
   "outputs": [],
   "source": [
    "def generate(mdodel, idx, max_new_tokens, context_size, temputure, \n",
    "            top_k=None, eos_id=None):\n",
    "    for _ in range(max_new_tokens):\n",
    "        idx = idx[:, -context_size:]\n",
    "        with torch.no_grad():\n",
    "            logits = model(idx)\n",
    "        logits = logits[:, -1, :]\n",
    "        if top_k is not None:\n",
    "            top_logits, _  = torch.topk(logits, top_k)\n",
    "            min_val = top_logits[:, -1]\n",
    "            logits = torch.where(\n",
    "                logits < min_val,\n",
    "                torch.tensor(float('-inf')).to(logits.device),\n",
    "                logits\n",
    "            )\n",
    "        if temputure > 0.0:\n",
    "            logits = logits / temputure\n",
    "            prob = torch.softmax(logits, dim=-1)\n",
    "            idx_next = torch.multinomial(prob, num_samples=1)\n",
    "        else:\n",
    "            idx_next = torch.argmax(logits, dim=-1, keepdim=True)\n",
    "        if idx_next == eos_id:\n",
    "            break\n",
    "        idx = torch.cat(idx, idx_next)\n",
    "    return idx"
   ]
  }
 ],
 "metadata": {
  "kernelspec": {
   "display_name": "base",
   "language": "python",
   "name": "python3"
  },
  "language_info": {
   "codemirror_mode": {
    "name": "ipython",
    "version": 3
   },
   "file_extension": ".py",
   "mimetype": "text/x-python",
   "name": "python",
   "nbconvert_exporter": "python",
   "pygments_lexer": "ipython3",
   "version": "3.12.7"
  }
 },
 "nbformat": 4,
 "nbformat_minor": 5
}
