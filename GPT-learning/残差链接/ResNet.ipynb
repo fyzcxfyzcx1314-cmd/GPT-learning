{
 "cells": [
  {
   "cell_type": "code",
   "execution_count": 2,
   "id": "b1dc5045",
   "metadata": {},
   "outputs": [],
   "source": [
    "import torch\n",
    "from torch import nn"
   ]
  },
  {
   "cell_type": "markdown",
   "id": "05797c9a",
   "metadata": {},
   "source": [
    "### 解决替代消失问题"
   ]
  },
  {
   "cell_type": "markdown",
   "id": "b9f67278",
   "metadata": {},
   "source": [
    "#### 残差连接通过跳过一个或多个层，为梯度在网络中的流动提供了一条可替代且更短的路径。"
   ]
  },
  {
   "cell_type": "code",
   "execution_count": 7,
   "id": "2c9cb191",
   "metadata": {},
   "outputs": [],
   "source": [
    "class Example(nn.Module):\n",
    "    def __init__(self, layer_size, ResNet):\n",
    "        super().__init__()\n",
    "        self.ResNet = ResNet\n",
    "        self.layers = nn.ModuleList([\n",
    "            nn.Sequential(\n",
    "                nn.Linear(layer_size[0], layer_size[1]),\n",
    "                nn.GELU()\n",
    "            ),\n",
    "            nn.Sequential(\n",
    "                nn.Linear(layer_size[0], layer_size[1]),\n",
    "                nn.GELU()\n",
    "            ),\n",
    "            nn.Sequential(\n",
    "                nn.Linear(layer_size[0], layer_size[1]),\n",
    "                nn.GELU()\n",
    "            ),\n",
    "            nn.Sequential(\n",
    "                nn.Linear(layer_size[0], layer_size[1]),\n",
    "                nn.GELU()\n",
    "            ),\n",
    "            nn.Sequential(\n",
    "                nn.Linear(layer_size[0], layer_size[1]),\n",
    "                nn.GELU()\n",
    "            )\n",
    "        ])\n",
    "    def forward(self, x):\n",
    "        for layer in self.layers:\n",
    "            layer_output = layer(x)\n",
    "            if self.ResNet and x.shape == layer_output.shape:\n",
    "                x = x + layer_output\n",
    "            else:\n",
    "                x = layer_output\n",
    "        return x"
   ]
  },
  {
   "cell_type": "code",
   "execution_count": 8,
   "id": "204e99ec",
   "metadata": {},
   "outputs": [],
   "source": [
    "layer_sizes = [3, 3, 3, 3, 3, 1] \n",
    "sample_input = torch.tensor([[1., 0., -1.]]) \n",
    "torch.manual_seed(123) \n",
    "model_without_shortcut = Example( \n",
    " layer_sizes, ResNet=False \n",
    ")"
   ]
  },
  {
   "cell_type": "code",
   "execution_count": 9,
   "id": "37011bd2",
   "metadata": {},
   "outputs": [],
   "source": [
    "def print_gradients(model, x):\n",
    "   output = model(x) \n",
    "   target = torch.tensor([[0.]]) \n",
    "   loss = nn.MSELoss() \n",
    "   loss = loss(output, target) \n",
    "   loss.backward() \n",
    "   for name, param in model.named_parameters():\n",
    "    if 'weight' in name: \n",
    "        print(f\"{name} has gradient mean of {param.grad.abs().mean().item()}\")"
   ]
  },
  {
   "cell_type": "code",
   "execution_count": 10,
   "id": "0c047bd0",
   "metadata": {},
   "outputs": [
    {
     "name": "stdout",
     "output_type": "stream",
     "text": [
      "layers.0.0.weight has gradient mean of 0.0005547706969082355\n",
      "layers.1.0.weight has gradient mean of 0.0003348961763549596\n",
      "layers.2.0.weight has gradient mean of 0.0020374569576233625\n",
      "layers.3.0.weight has gradient mean of 0.004004963207989931\n",
      "layers.4.0.weight has gradient mean of 0.004936755169183016\n"
     ]
    },
    {
     "name": "stderr",
     "output_type": "stream",
     "text": [
      "c:\\Users\\29611\\anaconda3\\Lib\\site-packages\\torch\\nn\\modules\\loss.py:634: UserWarning: Using a target size (torch.Size([1, 1])) that is different to the input size (torch.Size([1, 3])). This will likely lead to incorrect results due to broadcasting. Please ensure they have the same size.\n",
      "  return F.mse_loss(input, target, reduction=self.reduction)\n"
     ]
    }
   ],
   "source": [
    "print_gradients(model_without_shortcut, sample_input)"
   ]
  },
  {
   "cell_type": "code",
   "execution_count": 12,
   "id": "19d298a4",
   "metadata": {},
   "outputs": [
    {
     "name": "stdout",
     "output_type": "stream",
     "text": [
      "layers.0.0.weight has gradient mean of 0.6297153830528259\n",
      "layers.1.0.weight has gradient mean of 0.5255692005157471\n",
      "layers.2.0.weight has gradient mean of 0.7472164630889893\n",
      "layers.3.0.weight has gradient mean of 0.4475112557411194\n",
      "layers.4.0.weight has gradient mean of 0.5911622047424316\n"
     ]
    },
    {
     "name": "stderr",
     "output_type": "stream",
     "text": [
      "c:\\Users\\29611\\anaconda3\\Lib\\site-packages\\torch\\nn\\modules\\loss.py:634: UserWarning: Using a target size (torch.Size([1, 1])) that is different to the input size (torch.Size([1, 3])). This will likely lead to incorrect results due to broadcasting. Please ensure they have the same size.\n",
      "  return F.mse_loss(input, target, reduction=self.reduction)\n"
     ]
    }
   ],
   "source": [
    "torch.manual_seed(123) \n",
    "model_with_shortcut = Example( \n",
    " layer_sizes, ResNet=True \n",
    ") \n",
    "print_gradients(model_with_shortcut, sample_input)"
   ]
  }
 ],
 "metadata": {
  "kernelspec": {
   "display_name": "base",
   "language": "python",
   "name": "python3"
  },
  "language_info": {
   "codemirror_mode": {
    "name": "ipython",
    "version": 3
   },
   "file_extension": ".py",
   "mimetype": "text/x-python",
   "name": "python",
   "nbconvert_exporter": "python",
   "pygments_lexer": "ipython3",
   "version": "3.12.7"
  }
 },
 "nbformat": 4,
 "nbformat_minor": 5
}
