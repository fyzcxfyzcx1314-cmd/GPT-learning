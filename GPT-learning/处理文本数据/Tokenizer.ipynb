{
 "cells": [
  {
   "cell_type": "code",
   "execution_count": 2,
   "id": "c2dca95a",
   "metadata": {},
   "outputs": [],
   "source": [
    "import urllib.request\n",
    "import re"
   ]
  },
  {
   "cell_type": "markdown",
   "id": "03afd663",
   "metadata": {},
   "source": [
    "### 读取数据"
   ]
  },
  {
   "cell_type": "code",
   "execution_count": 3,
   "id": "995cc26c",
   "metadata": {},
   "outputs": [
    {
     "data": {
      "text/plain": [
       "('the-verdict.txt', <http.client.HTTPMessage at 0x21d99d72870>)"
      ]
     },
     "execution_count": 3,
     "metadata": {},
     "output_type": "execute_result"
    }
   ],
   "source": [
    "url = (\"https://raw.githubusercontent.com/rasbt/\" \n",
    " \"LLMs-from-scratch/main/ch02/01_main-chapter-code/\" \n",
    " \"the-verdict.txt\")\n",
    "file_path = \"the-verdict.txt\"\n",
    "urllib.request.urlretrieve(url, file_path)"
   ]
  },
  {
   "cell_type": "markdown",
   "id": "aa6d7764",
   "metadata": {},
   "source": [
    "### 读取文档"
   ]
  },
  {
   "cell_type": "code",
   "execution_count": 4,
   "id": "a24bb1dd",
   "metadata": {},
   "outputs": [
    {
     "name": "stdout",
     "output_type": "stream",
     "text": [
      "Total number 20479\n",
      "I HAD always thought Jack Gisburn rather a cheap genius--though a good fellow enough--so it was no \n"
     ]
    }
   ],
   "source": [
    "with open(\"the-verdict.txt\", \"r\", encoding=\"utf-8\") as f:\n",
    "    raw_text = f.read()\n",
    "print(\"Total number\", len(raw_text))\n",
    "print(raw_text[:99])"
   ]
  },
  {
   "cell_type": "markdown",
   "id": "fa0adda4",
   "metadata": {},
   "source": [
    "### 构建vocabulary(按单词切分)"
   ]
  },
  {
   "cell_type": "code",
   "execution_count": 5,
   "id": "b3be10da",
   "metadata": {},
   "outputs": [
    {
     "name": "stdout",
     "output_type": "stream",
     "text": [
      "4690\n"
     ]
    }
   ],
   "source": [
    "processed_text = re.split(r'([,.:;?_!\"()\\']|--|\\s)', raw_text)\n",
    "processed_text = [item.strip() for item in processed_text if item.strip()]\n",
    "print(len(processed_text))"
   ]
  },
  {
   "cell_type": "code",
   "execution_count": 6,
   "id": "c092a0e1",
   "metadata": {},
   "outputs": [
    {
     "name": "stdout",
     "output_type": "stream",
     "text": [
      "1130\n"
     ]
    }
   ],
   "source": [
    "# 转化token id\n",
    "all_words = sorted(set(processed_text))\n",
    "vocab_size = len(all_words)\n",
    "print(vocab_size)"
   ]
  },
  {
   "cell_type": "code",
   "execution_count": 7,
   "id": "35e0dbd3",
   "metadata": {},
   "outputs": [
    {
     "name": "stdout",
     "output_type": "stream",
     "text": [
      "('!', 0)\n",
      "('\"', 1)\n",
      "(\"'\", 2)\n",
      "('(', 3)\n",
      "(')', 4)\n",
      "(',', 5)\n",
      "('--', 6)\n"
     ]
    }
   ],
   "source": [
    "# 构建词汇表\n",
    "vocab = {token:id for id, token in enumerate(all_words)}\n",
    "for id, token in enumerate(vocab.items()) :\n",
    "    print(token)\n",
    "    if id > 5:\n",
    "        break"
   ]
  },
  {
   "cell_type": "markdown",
   "id": "cabcc417",
   "metadata": {},
   "source": [
    "### 构建分词器"
   ]
  },
  {
   "cell_type": "code",
   "execution_count": 8,
   "id": "30c4935f",
   "metadata": {},
   "outputs": [],
   "source": [
    "# 构建文本分词器\n",
    "class SimpleTokenizer1:\n",
    "    def __init__(self, vocab):\n",
    "        self.id_to_token = {id:token for token, id in vocab.items()}\n",
    "        self.token_to_id = vocab\n",
    "    def encoder(self, text):\n",
    "        processed_text = re.split(r'([,.?_!\"()\\']|--|\\s)', text)\n",
    "        processed_text = [item.strip() for item in processed_text if item.strip()]\n",
    "        ids = [self.token_to_id[s] for s in processed_text]\n",
    "        return ids\n",
    "    def decoder(self, ids):\n",
    "        text = \" \".join([self.id_to_token[i] for i in ids])\n",
    "        text = re.sub(r'\\s+([,.?!\"()\\'])', r'\\1', text)\n",
    "        return text"
   ]
  },
  {
   "cell_type": "code",
   "execution_count": 9,
   "id": "25cfe15a",
   "metadata": {},
   "outputs": [
    {
     "name": "stdout",
     "output_type": "stream",
     "text": [
      "[1, 56, 2, 850, 988, 602, 533, 746, 5, 1126, 596, 5, 1, 67, 7, 38, 851, 1108, 754, 793, 7]\n"
     ]
    }
   ],
   "source": [
    "tokenizer = SimpleTokenizer1(vocab) \n",
    "text = \"\"\"\"It's the last he painted, you know,\" \n",
    " Mrs. Gisburn said with pardonable pride.\"\"\" \n",
    "ids = tokenizer.encoder(text) \n",
    "print(ids)"
   ]
  },
  {
   "cell_type": "code",
   "execution_count": 10,
   "id": "2f650e0a",
   "metadata": {},
   "outputs": [
    {
     "name": "stdout",
     "output_type": "stream",
     "text": [
      "\" It' s the last he painted, you know,\" Mrs. Gisburn said with pardonable pride.\n"
     ]
    }
   ],
   "source": [
    "print(tokenizer.decoder(ids))"
   ]
  },
  {
   "cell_type": "markdown",
   "id": "adface5b",
   "metadata": {},
   "source": [
    "### 引入特殊token（一般有bos，eos，pad，unk，endoftext）"
   ]
  },
  {
   "cell_type": "code",
   "execution_count": 11,
   "id": "96ef1b82",
   "metadata": {},
   "outputs": [
    {
     "name": "stdout",
     "output_type": "stream",
     "text": [
      "1132\n"
     ]
    }
   ],
   "source": [
    "all_tokens = sorted(list(set(processed_text)))\n",
    "all_tokens.extend([\"<|endoftext|>\", \"<|unk|>\"])\n",
    "vocab = {token:id for id, token in enumerate(all_tokens)}\n",
    "print(len(vocab.items()))"
   ]
  },
  {
   "cell_type": "code",
   "execution_count": 12,
   "id": "6dd4612b",
   "metadata": {},
   "outputs": [],
   "source": [
    "# 构建文本分词器\n",
    "class SimpleTokenizer:\n",
    "    def __init__(self, vocab):\n",
    "        self.id_to_token = {id:token for token, id in vocab.items()}\n",
    "        self.token_to_id = vocab\n",
    "    def encoder(self, text):\n",
    "        processed_text = re.split(r'([,.?_!\"()\\']|--|\\s)', text)\n",
    "        processed_text = [item.strip() for item in processed_text if item.strip()]\n",
    "        processed_text = [token if token in self.token_to_id else \"<unk>\" for token in processed_text]\n",
    "        ids = [self.token_to_id[token] for token in processed_text]\n",
    "        return ids\n",
    "    def decoder(self, ids):\n",
    "        text = \" \".join([self.id_to_token[i] for i in ids])\n",
    "        text = re.sub(r'\\s+([,.?!\"()\\'])', r'\\1', text)\n",
    "        return text"
   ]
  },
  {
   "cell_type": "markdown",
   "id": "0abff74f",
   "metadata": {},
   "source": [
    "## 不同Tokenizer算法的学习"
   ]
  },
  {
   "cell_type": "markdown",
   "id": "e4047730",
   "metadata": {},
   "source": [
    "#### BPE算法"
   ]
  },
  {
   "cell_type": "code",
   "execution_count": 16,
   "id": "228c9e14",
   "metadata": {},
   "outputs": [
    {
     "name": "stdout",
     "output_type": "stream",
     "text": [
      "Collecting tiktoken\n",
      "  Downloading tiktoken-0.12.0-cp312-cp312-win_amd64.whl.metadata (6.9 kB)\n",
      "Requirement already satisfied: regex>=2022.1.18 in c:\\users\\29611\\anaconda3\\lib\\site-packages (from tiktoken) (2024.9.11)\n",
      "Requirement already satisfied: requests>=2.26.0 in c:\\users\\29611\\anaconda3\\lib\\site-packages (from tiktoken) (2.32.3)\n",
      "Requirement already satisfied: charset-normalizer<4,>=2 in c:\\users\\29611\\anaconda3\\lib\\site-packages (from requests>=2.26.0->tiktoken) (3.3.2)\n",
      "Requirement already satisfied: idna<4,>=2.5 in c:\\users\\29611\\anaconda3\\lib\\site-packages (from requests>=2.26.0->tiktoken) (3.7)\n",
      "Requirement already satisfied: urllib3<3,>=1.21.1 in c:\\users\\29611\\anaconda3\\lib\\site-packages (from requests>=2.26.0->tiktoken) (2.2.3)\n",
      "Requirement already satisfied: certifi>=2017.4.17 in c:\\users\\29611\\anaconda3\\lib\\site-packages (from requests>=2.26.0->tiktoken) (2024.8.30)\n",
      "Downloading tiktoken-0.12.0-cp312-cp312-win_amd64.whl (878 kB)\n",
      "   ---------------------------------------- 0.0/878.7 kB ? eta -:--:--\n",
      "   ---------------------------------------- 0.0/878.7 kB ? eta -:--:--\n",
      "   ----------- ---------------------------- 262.1/878.7 kB ? eta -:--:--\n",
      "   ---------------------------------------- 878.7/878.7 kB 1.7 MB/s eta 0:00:00\n",
      "Installing collected packages: tiktoken\n",
      "Successfully installed tiktoken-0.12.0\n"
     ]
    }
   ],
   "source": [
    "# 使用\n",
    "!pip install tiktoken\n",
    "import tiktoken"
   ]
  },
  {
   "cell_type": "code",
   "execution_count": 17,
   "id": "0977cf33",
   "metadata": {},
   "outputs": [
    {
     "name": "stdout",
     "output_type": "stream",
     "text": [
      "[15496, 11, 466, 345, 588, 8887, 30, 220, 50256, 554, 262, 4252, 18250, 8812, 2114, 1659, 617, 34680, 27271, 13]\n"
     ]
    }
   ],
   "source": [
    "tokenizer = tiktoken.get_encoding(\"gpt2\")\n",
    "text = ( \n",
    " \"Hello, do you like tea? <|endoftext|> In the sunlit terraces\" \n",
    " \"of someunknownPlace.\" \n",
    ") \n",
    "integers = tokenizer.encode(text, allowed_special={\"<|endoftext|>\"}) \n",
    "print(integers)"
   ]
  },
  {
   "cell_type": "markdown",
   "id": "1584bc21",
   "metadata": {},
   "source": [
    "##### BPE分词就是将词划分为子词，因为按照词分，词表过大，且无法解决OOV问题，按字符分无法把握语义结构，子词划分不仅词表较小，对OOV的词也能拆解成子词理解。"
   ]
  },
  {
   "cell_type": "markdown",
   "id": "ca33c34f",
   "metadata": {},
   "source": [
    "### 过程\n",
    "#### 1. 结尾加上特殊字符_\n",
    "#### 2. 统计相邻字符出现的频率\n",
    "#### 3. 合并出现频率最高的相邻字符，将两个字符合并成一个重新加入\n",
    "#### 4. 重复3， 4，直到达到预计的词表大小"
   ]
  },
  {
   "cell_type": "markdown",
   "id": "6c8e3009",
   "metadata": {},
   "source": []
  }
 ],
 "metadata": {
  "kernelspec": {
   "display_name": "base",
   "language": "python",
   "name": "python3"
  },
  "language_info": {
   "codemirror_mode": {
    "name": "ipython",
    "version": 3
   },
   "file_extension": ".py",
   "mimetype": "text/x-python",
   "name": "python",
   "nbconvert_exporter": "python",
   "pygments_lexer": "ipython3",
   "version": "3.12.7"
  }
 },
 "nbformat": 4,
 "nbformat_minor": 5
}
