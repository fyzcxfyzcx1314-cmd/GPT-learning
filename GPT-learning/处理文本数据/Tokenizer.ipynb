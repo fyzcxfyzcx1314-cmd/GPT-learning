{
 "cells": [
  {
   "cell_type": "code",
   "execution_count": 2,
   "id": "c2dca95a",
   "metadata": {},
   "outputs": [],
   "source": [
    "import urllib.request\n",
    "import re"
   ]
  },
  {
   "cell_type": "markdown",
   "id": "03afd663",
   "metadata": {},
   "source": [
    "### 读取数据"
   ]
  },
  {
   "cell_type": "code",
   "execution_count": 3,
   "id": "995cc26c",
   "metadata": {},
   "outputs": [
    {
     "data": {
      "text/plain": [
       "('the-verdict.txt', <http.client.HTTPMessage at 0x21d99d72870>)"
      ]
     },
     "execution_count": 3,
     "metadata": {},
     "output_type": "execute_result"
    }
   ],
   "source": [
    "url = (\"https://raw.githubusercontent.com/rasbt/\" \n",
    " \"LLMs-from-scratch/main/ch02/01_main-chapter-code/\" \n",
    " \"the-verdict.txt\")\n",
    "file_path = \"the-verdict.txt\"\n",
    "urllib.request.urlretrieve(url, file_path)"
   ]
  },
  {
   "cell_type": "markdown",
   "id": "aa6d7764",
   "metadata": {},
   "source": [
    "### 读取文档"
   ]
  },
  {
   "cell_type": "code",
   "execution_count": 4,
   "id": "a24bb1dd",
   "metadata": {},
   "outputs": [
    {
     "name": "stdout",
     "output_type": "stream",
     "text": [
      "Total number 20479\n",
      "I HAD always thought Jack Gisburn rather a cheap genius--though a good fellow enough--so it was no \n"
     ]
    }
   ],
   "source": [
    "with open(\"the-verdict.txt\", \"r\", encoding=\"utf-8\") as f:\n",
    "    raw_text = f.read()\n",
    "print(\"Total number\", len(raw_text))\n",
    "print(raw_text[:99])"
   ]
  },
  {
   "cell_type": "markdown",
   "id": "fa0adda4",
   "metadata": {},
   "source": [
    "### 构建vocabulary(按单词切分)"
   ]
  },
  {
   "cell_type": "code",
   "execution_count": 5,
   "id": "b3be10da",
   "metadata": {},
   "outputs": [
    {
     "name": "stdout",
     "output_type": "stream",
     "text": [
      "4690\n"
     ]
    }
   ],
   "source": [
    "processed_text = re.split(r'([,.:;?_!\"()\\']|--|\\s)', raw_text)\n",
    "processed_text = [item.strip() for item in processed_text if item.strip()]\n",
    "print(len(processed_text))"
   ]
  },
  {
   "cell_type": "code",
   "execution_count": 6,
   "id": "c092a0e1",
   "metadata": {},
   "outputs": [
    {
     "name": "stdout",
     "output_type": "stream",
     "text": [
      "1130\n"
     ]
    }
   ],
   "source": [
    "# 转化token id\n",
    "all_words = sorted(set(processed_text))\n",
    "vocab_size = len(all_words)\n",
    "print(vocab_size)"
   ]
  },
  {
   "cell_type": "code",
   "execution_count": 7,
   "id": "35e0dbd3",
   "metadata": {},
   "outputs": [
    {
     "name": "stdout",
     "output_type": "stream",
     "text": [
      "('!', 0)\n",
      "('\"', 1)\n",
      "(\"'\", 2)\n",
      "('(', 3)\n",
      "(')', 4)\n",
      "(',', 5)\n",
      "('--', 6)\n"
     ]
    }
   ],
   "source": [
    "# 构建词汇表\n",
    "vocab = {token:id for id, token in enumerate(all_words)}\n",
    "for id, token in enumerate(vocab.items()) :\n",
    "    print(token)\n",
    "    if id > 5:\n",
    "        break"
   ]
  },
  {
   "cell_type": "markdown",
   "id": "cabcc417",
   "metadata": {},
   "source": [
    "### 构建分词器"
   ]
  },
  {
   "cell_type": "code",
   "execution_count": 8,
   "id": "30c4935f",
   "metadata": {},
   "outputs": [],
   "source": [
    "# 构建文本分词器\n",
    "class SimpleTokenizer1:\n",
    "    def __init__(self, vocab):\n",
    "        self.id_to_token = {id:token for token, id in vocab.items()}\n",
    "        self.token_to_id = vocab\n",
    "    def encoder(self, text):\n",
    "        processed_text = re.split(r'([,.?_!\"()\\']|--|\\s)', text)\n",
    "        processed_text = [item.strip() for item in processed_text if item.strip()]\n",
    "        ids = [self.token_to_id[s] for s in processed_text]\n",
    "        return ids\n",
    "    def decoder(self, ids):\n",
    "        text = \" \".join([self.id_to_token[i] for i in ids])\n",
    "        text = re.sub(r'\\s+([,.?!\"()\\'])', r'\\1', text)\n",
    "        return text"
   ]
  },
  {
   "cell_type": "code",
   "execution_count": 9,
   "id": "25cfe15a",
   "metadata": {},
   "outputs": [
    {
     "name": "stdout",
     "output_type": "stream",
     "text": [
      "[1, 56, 2, 850, 988, 602, 533, 746, 5, 1126, 596, 5, 1, 67, 7, 38, 851, 1108, 754, 793, 7]\n"
     ]
    }
   ],
   "source": [
    "tokenizer = SimpleTokenizer1(vocab) \n",
    "text = \"\"\"\"It's the last he painted, you know,\" \n",
    " Mrs. Gisburn said with pardonable pride.\"\"\" \n",
    "ids = tokenizer.encoder(text) \n",
    "print(ids)"
   ]
  },
  {
   "cell_type": "code",
   "execution_count": 10,
   "id": "2f650e0a",
   "metadata": {},
   "outputs": [
    {
     "name": "stdout",
     "output_type": "stream",
     "text": [
      "\" It' s the last he painted, you know,\" Mrs. Gisburn said with pardonable pride.\n"
     ]
    }
   ],
   "source": [
    "print(tokenizer.decoder(ids))"
   ]
  },
  {
   "cell_type": "markdown",
   "id": "adface5b",
   "metadata": {},
   "source": [
    "### 引入特殊token（一般有bos，eos，pad，unk，endoftext）"
   ]
  },
  {
   "cell_type": "code",
   "execution_count": 11,
   "id": "96ef1b82",
   "metadata": {},
   "outputs": [
    {
     "name": "stdout",
     "output_type": "stream",
     "text": [
      "1132\n"
     ]
    }
   ],
   "source": [
    "all_tokens = sorted(list(set(processed_text)))\n",
    "all_tokens.extend([\"<|endoftext|>\", \"<|unk|>\"])\n",
    "vocab = {token:id for id, token in enumerate(all_tokens)}\n",
    "print(len(vocab.items()))"
   ]
  },
  {
   "cell_type": "code",
   "execution_count": 12,
   "id": "6dd4612b",
   "metadata": {},
   "outputs": [],
   "source": [
    "# 构建文本分词器\n",
    "class SimpleTokenizer:\n",
    "    def __init__(self, vocab):\n",
    "        self.id_to_token = {id:token for token, id in vocab.items()}\n",
    "        self.token_to_id = vocab\n",
    "    def encoder(self, text):\n",
    "        processed_text = re.split(r'([,.?_!\"()\\']|--|\\s)', text)\n",
    "        processed_text = [item.strip() for item in processed_text if item.strip()]\n",
    "        processed_text = [token if token in self.token_to_id else \"<unk>\" for token in processed_text]\n",
    "        ids = [self.token_to_id[token] for token in processed_text]\n",
    "        return ids\n",
    "    def decoder(self, ids):\n",
    "        text = \" \".join([self.id_to_token[i] for i in ids])\n",
    "        text = re.sub(r'\\s+([,.?!\"()\\'])', r'\\1', text)\n",
    "        return text"
   ]
  },
  {
   "cell_type": "markdown",
   "id": "0abff74f",
   "metadata": {},
   "source": [
    "## 不同Tokenizer算法的学习"
   ]
  },
  {
   "cell_type": "markdown",
   "id": "e4047730",
   "metadata": {},
   "source": [
    "#### BPE算法"
   ]
  },
  {
   "cell_type": "code",
   "execution_count": 16,
   "id": "228c9e14",
   "metadata": {},
   "outputs": [
    {
     "name": "stdout",
     "output_type": "stream",
     "text": [
      "Collecting tiktoken\n",
      "  Downloading tiktoken-0.12.0-cp312-cp312-win_amd64.whl.metadata (6.9 kB)\n",
      "Requirement already satisfied: regex>=2022.1.18 in c:\\users\\29611\\anaconda3\\lib\\site-packages (from tiktoken) (2024.9.11)\n",
      "Requirement already satisfied: requests>=2.26.0 in c:\\users\\29611\\anaconda3\\lib\\site-packages (from tiktoken) (2.32.3)\n",
      "Requirement already satisfied: charset-normalizer<4,>=2 in c:\\users\\29611\\anaconda3\\lib\\site-packages (from requests>=2.26.0->tiktoken) (3.3.2)\n",
      "Requirement already satisfied: idna<4,>=2.5 in c:\\users\\29611\\anaconda3\\lib\\site-packages (from requests>=2.26.0->tiktoken) (3.7)\n",
      "Requirement already satisfied: urllib3<3,>=1.21.1 in c:\\users\\29611\\anaconda3\\lib\\site-packages (from requests>=2.26.0->tiktoken) (2.2.3)\n",
      "Requirement already satisfied: certifi>=2017.4.17 in c:\\users\\29611\\anaconda3\\lib\\site-packages (from requests>=2.26.0->tiktoken) (2024.8.30)\n",
      "Downloading tiktoken-0.12.0-cp312-cp312-win_amd64.whl (878 kB)\n",
      "   ---------------------------------------- 0.0/878.7 kB ? eta -:--:--\n",
      "   ---------------------------------------- 0.0/878.7 kB ? eta -:--:--\n",
      "   ----------- ---------------------------- 262.1/878.7 kB ? eta -:--:--\n",
      "   ---------------------------------------- 878.7/878.7 kB 1.7 MB/s eta 0:00:00\n",
      "Installing collected packages: tiktoken\n",
      "Successfully installed tiktoken-0.12.0\n"
     ]
    }
   ],
   "source": [
    "# 使用\n",
    "!pip install tiktoken\n",
    "import tiktoken"
   ]
  },
  {
   "cell_type": "code",
   "execution_count": 17,
   "id": "0977cf33",
   "metadata": {},
   "outputs": [
    {
     "name": "stdout",
     "output_type": "stream",
     "text": [
      "[15496, 11, 466, 345, 588, 8887, 30, 220, 50256, 554, 262, 4252, 18250, 8812, 2114, 1659, 617, 34680, 27271, 13]\n"
     ]
    }
   ],
   "source": [
    "tokenizer = tiktoken.get_encoding(\"gpt2\")\n",
    "text = ( \n",
    " \"Hello, do you like tea? <|endoftext|> In the sunlit terraces\" \n",
    " \"of someunknownPlace.\" \n",
    ") \n",
    "integers = tokenizer.encode(text, allowed_special={\"<|endoftext|>\"}) \n",
    "print(integers)"
   ]
  },
  {
   "cell_type": "markdown",
   "id": "1584bc21",
   "metadata": {},
   "source": [
    "##### BPE分词就是将词划分为子词，因为按照词分，词表过大，且无法解决OOV问题，按字符分无法把握语义结构，子词划分不仅词表较小，对OOV的词也能拆解成子词理解。"
   ]
  },
  {
   "cell_type": "markdown",
   "id": "ca33c34f",
   "metadata": {},
   "source": [
    "### 过程\n",
    "#### 1. 结尾加上特殊字符_\n",
    "#### 2. 统计相邻字符出现的频率\n",
    "#### 3. 合并出现频率最高的相邻字符，将两个字符合并成一个重新加入\n",
    "#### 4. 重复3， 4，直到达到预计的词表大小"
   ]
  },
  {
   "cell_type": "markdown",
   "id": "6c8e3009",
   "metadata": {},
   "source": [
    "### WordPiece算法"
   ]
  },
  {
   "cell_type": "code",
   "execution_count": 22,
   "id": "73a4eaea",
   "metadata": {},
   "outputs": [
    {
     "name": "stdout",
     "output_type": "stream",
     "text": [
      "Collecting transformers\n",
      "  Downloading transformers-4.57.1-py3-none-any.whl.metadata (43 kB)\n",
      "Requirement already satisfied: filelock in c:\\users\\29611\\anaconda3\\lib\\site-packages (from transformers) (3.13.1)\n",
      "Collecting huggingface-hub<1.0,>=0.34.0 (from transformers)\n",
      "  Downloading huggingface_hub-0.36.0-py3-none-any.whl.metadata (14 kB)\n",
      "Requirement already satisfied: numpy>=1.17 in c:\\users\\29611\\anaconda3\\lib\\site-packages (from transformers) (1.26.4)\n",
      "Requirement already satisfied: packaging>=20.0 in c:\\users\\29611\\anaconda3\\lib\\site-packages (from transformers) (24.1)\n",
      "Requirement already satisfied: pyyaml>=5.1 in c:\\users\\29611\\anaconda3\\lib\\site-packages (from transformers) (6.0.1)\n",
      "Requirement already satisfied: regex!=2019.12.17 in c:\\users\\29611\\anaconda3\\lib\\site-packages (from transformers) (2024.9.11)\n",
      "Requirement already satisfied: requests in c:\\users\\29611\\anaconda3\\lib\\site-packages (from transformers) (2.32.3)\n",
      "Collecting tokenizers<=0.23.0,>=0.22.0 (from transformers)\n",
      "  Downloading tokenizers-0.22.1-cp39-abi3-win_amd64.whl.metadata (6.9 kB)\n",
      "Collecting safetensors>=0.4.3 (from transformers)\n",
      "  Downloading safetensors-0.6.2-cp38-abi3-win_amd64.whl.metadata (4.1 kB)\n",
      "Requirement already satisfied: tqdm>=4.27 in c:\\users\\29611\\anaconda3\\lib\\site-packages (from transformers) (4.66.5)\n",
      "Requirement already satisfied: fsspec>=2023.5.0 in c:\\users\\29611\\anaconda3\\lib\\site-packages (from huggingface-hub<1.0,>=0.34.0->transformers) (2024.6.1)\n",
      "Requirement already satisfied: typing-extensions>=3.7.4.3 in c:\\users\\29611\\anaconda3\\lib\\site-packages (from huggingface-hub<1.0,>=0.34.0->transformers) (4.11.0)\n",
      "Requirement already satisfied: colorama in c:\\users\\29611\\anaconda3\\lib\\site-packages (from tqdm>=4.27->transformers) (0.4.6)\n",
      "Requirement already satisfied: charset-normalizer<4,>=2 in c:\\users\\29611\\anaconda3\\lib\\site-packages (from requests->transformers) (3.3.2)\n",
      "Requirement already satisfied: idna<4,>=2.5 in c:\\users\\29611\\anaconda3\\lib\\site-packages (from requests->transformers) (3.7)\n",
      "Requirement already satisfied: urllib3<3,>=1.21.1 in c:\\users\\29611\\anaconda3\\lib\\site-packages (from requests->transformers) (2.2.3)\n",
      "Requirement already satisfied: certifi>=2017.4.17 in c:\\users\\29611\\anaconda3\\lib\\site-packages (from requests->transformers) (2024.8.30)\n",
      "Downloading transformers-4.57.1-py3-none-any.whl (12.0 MB)\n",
      "   ---------------------------------------- 0.0/12.0 MB ? eta -:--:--\n",
      "    --------------------------------------- 0.3/12.0 MB ? eta -:--:--\n",
      "   -- ------------------------------------- 0.8/12.0 MB 2.6 MB/s eta 0:00:05\n",
      "   ----- ---------------------------------- 1.6/12.0 MB 3.1 MB/s eta 0:00:04\n",
      "   ------- -------------------------------- 2.4/12.0 MB 3.4 MB/s eta 0:00:03\n",
      "   ---------- ----------------------------- 3.1/12.0 MB 3.6 MB/s eta 0:00:03\n",
      "   ------------- -------------------------- 3.9/12.0 MB 3.7 MB/s eta 0:00:03\n",
      "   ---------------- ----------------------- 5.0/12.0 MB 3.7 MB/s eta 0:00:02\n",
      "   ------------------ --------------------- 5.5/12.0 MB 3.7 MB/s eta 0:00:02\n",
      "   --------------------- ------------------ 6.6/12.0 MB 3.7 MB/s eta 0:00:02\n",
      "   ------------------------ --------------- 7.3/12.0 MB 3.8 MB/s eta 0:00:02\n",
      "   --------------------------- ------------ 8.4/12.0 MB 3.9 MB/s eta 0:00:01\n",
      "   ------------------------------- -------- 9.4/12.0 MB 3.9 MB/s eta 0:00:01\n",
      "   ---------------------------------- ----- 10.2/12.0 MB 4.0 MB/s eta 0:00:01\n",
      "   ------------------------------------- -- 11.3/12.0 MB 4.0 MB/s eta 0:00:01\n",
      "   ---------------------------------------- 12.0/12.0 MB 4.0 MB/s eta 0:00:00\n",
      "Downloading huggingface_hub-0.36.0-py3-none-any.whl (566 kB)\n",
      "   ---------------------------------------- 0.0/566.1 kB ? eta -:--:--\n",
      "   ---------------------------------------- 566.1/566.1 kB 4.8 MB/s eta 0:00:00\n",
      "Downloading safetensors-0.6.2-cp38-abi3-win_amd64.whl (320 kB)\n",
      "Downloading tokenizers-0.22.1-cp39-abi3-win_amd64.whl (2.7 MB)\n",
      "   ---------------------------------------- 0.0/2.7 MB ? eta -:--:--\n",
      "   ----------- ---------------------------- 0.8/2.7 MB 4.8 MB/s eta 0:00:01\n",
      "   ----------------------- ---------------- 1.6/2.7 MB 4.7 MB/s eta 0:00:01\n",
      "   ---------------------------------------- 2.7/2.7 MB 4.4 MB/s eta 0:00:00\n",
      "Installing collected packages: safetensors, huggingface-hub, tokenizers, transformers\n",
      "Successfully installed huggingface-hub-0.36.0 safetensors-0.6.2 tokenizers-0.22.1 transformers-4.57.1\n"
     ]
    },
    {
     "name": "stderr",
     "output_type": "stream",
     "text": [
      "None of PyTorch, TensorFlow >= 2.0, or Flax have been found. Models won't be available and only tokenizers, configuration and file/data utilities can be used.\n"
     ]
    },
    {
     "data": {
      "application/vnd.jupyter.widget-view+json": {
       "model_id": "9ad45615c58449c5b4525feb8ccb2c89",
       "version_major": 2,
       "version_minor": 0
      },
      "text/plain": [
       "tokenizer_config.json:   0%|          | 0.00/48.0 [00:00<?, ?B/s]"
      ]
     },
     "metadata": {},
     "output_type": "display_data"
    },
    {
     "name": "stderr",
     "output_type": "stream",
     "text": [
      "c:\\Users\\29611\\anaconda3\\Lib\\site-packages\\huggingface_hub\\file_download.py:143: UserWarning: `huggingface_hub` cache-system uses symlinks by default to efficiently store duplicated files but your machine does not support them in C:\\Users\\29611\\.cache\\huggingface\\hub\\models--bert-base-uncased. Caching files will still work but in a degraded version that might require more space on your disk. This warning can be disabled by setting the `HF_HUB_DISABLE_SYMLINKS_WARNING` environment variable. For more details, see https://huggingface.co/docs/huggingface_hub/how-to-cache#limitations.\n",
      "To support symlinks on Windows, you either need to activate Developer Mode or to run Python as an administrator. In order to activate developer mode, see this article: https://docs.microsoft.com/en-us/windows/apps/get-started/enable-your-device-for-development\n",
      "  warnings.warn(message)\n"
     ]
    },
    {
     "data": {
      "application/vnd.jupyter.widget-view+json": {
       "model_id": "dd49093509564d6b899275ad1a4577dd",
       "version_major": 2,
       "version_minor": 0
      },
      "text/plain": [
       "vocab.txt:   0%|          | 0.00/232k [00:00<?, ?B/s]"
      ]
     },
     "metadata": {},
     "output_type": "display_data"
    },
    {
     "data": {
      "application/vnd.jupyter.widget-view+json": {
       "model_id": "4d0641a8c4a54380b1f1eba8754613c0",
       "version_major": 2,
       "version_minor": 0
      },
      "text/plain": [
       "tokenizer.json:   0%|          | 0.00/466k [00:00<?, ?B/s]"
      ]
     },
     "metadata": {},
     "output_type": "display_data"
    },
    {
     "data": {
      "application/vnd.jupyter.widget-view+json": {
       "model_id": "f2190973e9c344a490e9818358e629ff",
       "version_major": 2,
       "version_minor": 0
      },
      "text/plain": [
       "config.json:   0%|          | 0.00/570 [00:00<?, ?B/s]"
      ]
     },
     "metadata": {},
     "output_type": "display_data"
    },
    {
     "name": "stdout",
     "output_type": "stream",
     "text": [
      "Tokens: ['natural', 'language', 'processing', 'is', 'fun', '!']\n",
      "Token IDs: [3019, 2653, 6364, 2003, 4569, 999]\n",
      "Decoded: natural language processing is fun!\n"
     ]
    }
   ],
   "source": [
    "# 使用\n",
    "!pip install transformers\n",
    "from transformers import BertTokenizer\n",
    "\n",
    "# 加载 BERT 的 WordPiece 分词器\n",
    "tokenizer = BertTokenizer.from_pretrained(\"bert-base-uncased\")\n",
    "\n",
    "# 示例文本\n",
    "text = \"Natural language processing is fun!\"\n",
    "\n",
    "# 编码（分词）\n",
    "tokens = tokenizer.tokenize(text)\n",
    "print(\"Tokens:\", tokens)\n",
    "\n",
    "# 将 token 转成 ID\n",
    "ids = tokenizer.convert_tokens_to_ids(tokens)\n",
    "print(\"Token IDs:\", ids)\n",
    "\n",
    "# 解码（还原为原文）\n",
    "decoded = tokenizer.decode(ids)\n",
    "print(\"Decoded:\", decoded)"
   ]
  },
  {
   "cell_type": "markdown",
   "id": "2010c8f4",
   "metadata": {},
   "source": [
    "#### WordPiece 是BPE的改进版本，同样是基于子词进行分词。但是不同于BPE的贪心的选择。\n",
    "#### WordPiece 不是按照频率来合并而是按照最大化语言模型的似然估计来选最优子词合并。\n",
    "#### 即在有限词汇表下，让文本的概率最大\n",
    "\n",
    "\n",
    "### 过程\n",
    "#### 1. 从字符开始\n",
    "#### 2. 统计相邻子词的联合概率P(xy)\n",
    "#### 3. 计算合并后的似然提升$ \\frac{P(x)}{P(y)P(xy)} $\n",
    "#### 4. 选择最大化预料总体似然子词进行合并\n",
    "#### 5. 重复"
   ]
  }
 ],
 "metadata": {
  "kernelspec": {
   "display_name": "base",
   "language": "python",
   "name": "python3"
  },
  "language_info": {
   "codemirror_mode": {
    "name": "ipython",
    "version": 3
   },
   "file_extension": ".py",
   "mimetype": "text/x-python",
   "name": "python",
   "nbconvert_exporter": "python",
   "pygments_lexer": "ipython3",
   "version": "3.12.7"
  }
 },
 "nbformat": 4,
 "nbformat_minor": 5
}
