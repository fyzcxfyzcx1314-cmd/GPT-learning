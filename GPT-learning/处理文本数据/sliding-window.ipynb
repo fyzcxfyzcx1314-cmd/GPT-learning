{
 "cells": [
  {
   "cell_type": "code",
   "execution_count": 12,
   "id": "ebe6f29a",
   "metadata": {},
   "outputs": [],
   "source": [
    "import re\n",
    "import tiktoken\n",
    "import torch\n",
    "from torch.utils.data import Dataset, DataLoader"
   ]
  },
  {
   "cell_type": "markdown",
   "id": "cb70a705",
   "metadata": {},
   "source": [
    "### 这里我们使用滑动窗口进行数据采样来构建训练数据集"
   ]
  },
  {
   "cell_type": "markdown",
   "id": "4144f358",
   "metadata": {},
   "source": [
    "#### BPE读取数据"
   ]
  },
  {
   "cell_type": "code",
   "execution_count": 3,
   "id": "8186288d",
   "metadata": {},
   "outputs": [
    {
     "name": "stdout",
     "output_type": "stream",
     "text": [
      "5145\n"
     ]
    }
   ],
   "source": [
    "with open(\"the-verdict.txt\", \"r\", encoding='utf-8') as f:\n",
    "    raw_text = f.read()\n",
    "tokenizer = tiktoken.get_encoding(\"gpt2\")\n",
    "enc_text = tokenizer.encode(raw_text)\n",
    "print(len(enc_text))"
   ]
  },
  {
   "cell_type": "code",
   "execution_count": 4,
   "id": "c62fff5a",
   "metadata": {},
   "outputs": [
    {
     "name": "stdout",
     "output_type": "stream",
     "text": [
      "x: [290, 4920, 2241, 287]\n",
      "y:       [4920, 2241, 287]\n"
     ]
    }
   ],
   "source": [
    "# 滑动窗口构建训练数据集\n",
    "context_size = 4 # batch_size大小\n",
    "x = enc_text[50:context_size + 50]\n",
    "y = enc_text[51:context_size + 50]\n",
    "print(f\"x: {x}\") \n",
    "print(f\"y:       {y}\")"
   ]
  },
  {
   "cell_type": "code",
   "execution_count": 8,
   "id": "4fc6124b",
   "metadata": {},
   "outputs": [
    {
     "name": "stdout",
     "output_type": "stream",
     "text": [
      " and ---->  established\n",
      " and established ---->  himself\n",
      " and established himself ---->  in\n",
      " and established himself in ---->  a\n"
     ]
    }
   ],
   "source": [
    "for i in range(1, context_size+1): \n",
    " context = enc_text[50:i + 50] \n",
    " desired = enc_text[i + 50] \n",
    " print(tokenizer.decode(context), \"---->\", tokenizer.decode([desired]))"
   ]
  },
  {
   "cell_type": "markdown",
   "id": "0dfb519f",
   "metadata": {},
   "source": [
    "### 实现高效数据加载器"
   ]
  },
  {
   "cell_type": "markdown",
   "id": "ffdcbea7",
   "metadata": {},
   "source": [
    "#### 数据加载器会遍历输入数据集，并将输入和目标以 PyTorch 张量的形式返回，这些PyTorch 张量可以被视为多维数组。具体来说，我们的目标是返回两个张量：一个是包含大语言模型所见的文本输入的输入张量，另一个是包含大语言模型需要预测的目标词元的目标张量"
   ]
  },
  {
   "cell_type": "code",
   "execution_count": 19,
   "id": "5e17b5eb",
   "metadata": {},
   "outputs": [],
   "source": [
    "# Dataset\n",
    "class GPTDataset(Dataset):\n",
    "    def __init__(self, txt, tokenizer, max_length, stride):\n",
    "        super().__init__()\n",
    "        self.input_ids = []\n",
    "        self.target_ids = []\n",
    "        token_ids = tokenizer.encode(txt)\n",
    "        for i in range(0, len(token_ids) - max_length, stride):\n",
    "            input_chunk = token_ids[i:i + max_length]\n",
    "            target_chunk = token_ids[i + 1:i + max_length + 1]\n",
    "            self.input_ids.append(torch.tensor(input_chunk))\n",
    "            self.target_ids.append(torch.tensor(target_chunk))\n",
    "    def __len__(self):\n",
    "        return len(self.input_ids)\n",
    "    def __getitem__(self, idx):\n",
    "        return self.input_ids[idx], self.target_ids[idx]"
   ]
  },
  {
   "cell_type": "code",
   "execution_count": 20,
   "id": "23f4775b",
   "metadata": {},
   "outputs": [],
   "source": [
    "# DataLoader\n",
    "def GPTDataLoader(txt, batch_size, max_length, stride, shuffle = True, \n",
    "                  drop_last = True, num_workers = 0, tokenizer = tokenizer):\n",
    "    dataset = GPTDataset(txt, tokenizer, max_length, stride)\n",
    "    dataloader = DataLoader(\n",
    "        dataset,\n",
    "        batch_size=batch_size,\n",
    "        drop_last=drop_last,\n",
    "        num_workers=num_workers,\n",
    "        shuffle=shuffle\n",
    "    )\n",
    "    return dataloader"
   ]
  },
  {
   "cell_type": "code",
   "execution_count": 22,
   "id": "991318b9",
   "metadata": {},
   "outputs": [
    {
     "name": "stdout",
     "output_type": "stream",
     "text": [
      "[tensor([[  40,  367, 2885, 1464],\n",
      "        [ 367, 2885, 1464, 1807]]), tensor([[ 367, 2885, 1464, 1807],\n",
      "        [2885, 1464, 1807, 3619]])]\n"
     ]
    }
   ],
   "source": [
    "with open(\"the-verdict.txt\", \"r\", encoding=\"utf-8\") as f: \n",
    " raw_text = f.read() \n",
    "dataloader = GPTDataLoader( \n",
    " raw_text, batch_size=2, max_length=4, stride=1, shuffle=False) \n",
    "data_iter = iter(dataloader) \n",
    "first_batch = next(data_iter) \n",
    "print(first_batch)"
   ]
  }
 ],
 "metadata": {
  "kernelspec": {
   "display_name": "base",
   "language": "python",
   "name": "python3"
  },
  "language_info": {
   "codemirror_mode": {
    "name": "ipython",
    "version": 3
   },
   "file_extension": ".py",
   "mimetype": "text/x-python",
   "name": "python",
   "nbconvert_exporter": "python",
   "pygments_lexer": "ipython3",
   "version": "3.12.7"
  }
 },
 "nbformat": 4,
 "nbformat_minor": 5
}
