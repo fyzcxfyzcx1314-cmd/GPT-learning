{
 "cells": [
  {
   "cell_type": "markdown",
   "id": "3300eb38",
   "metadata": {},
   "source": [
    "#### 绝对编码告诉模型“我是谁”（位置编号），但模型真正关心的其实是“我和别人距离多少”。"
   ]
  },
  {
   "cell_type": "markdown",
   "id": "3dc2e5e0",
   "metadata": {},
   "source": [
    "#### 在计算注意力权重时，加入 token 之间的相对位置信息"
   ]
  },
  {
   "cell_type": "markdown",
   "id": "6d14075e",
   "metadata": {},
   "source": [
    "$$\n",
    "Attention(Q, K) = QK^{T} + R\n",
    "$$\n",
    "#### 其中 R[i,j] 表示位置 i 和 j 之间的相对偏移（例如距离 d）。"
   ]
  },
  {
   "cell_type": "markdown",
   "id": "e3455d3a",
   "metadata": {},
   "source": [
    "#### 不直接与token_emb相加，而是作用再注意力分数"
   ]
  }
 ],
 "metadata": {
  "language_info": {
   "name": "python"
  }
 },
 "nbformat": 4,
 "nbformat_minor": 5
}
