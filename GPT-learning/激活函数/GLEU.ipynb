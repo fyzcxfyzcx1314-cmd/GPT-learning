{
 "cells": [
  {
   "cell_type": "code",
   "execution_count": 1,
   "id": "cac23bd2",
   "metadata": {},
   "outputs": [],
   "source": [
    "import torch\n",
    "from torch import nn\n",
    "import matplotlib.pyplot as plt"
   ]
  },
  {
   "cell_type": "markdown",
   "id": "cec2803e",
   "metadata": {},
   "source": [
    "#### 结合了高斯分布"
   ]
  },
  {
   "cell_type": "markdown",
   "id": "d794ba09",
   "metadata": {},
   "source": [
    "#### GELU 激活函数\n",
    "\n",
    "公式：\n",
    "\n",
    "$$\n",
    "\\text{GELU}(x) = x \\cdot \\Phi(x)\n",
    "$$\n",
    "\n",
    "其中，$\\Phi(x)$ 是标准正态分布的累积分布函数，定义为：\n",
    "\n",
    "$$\n",
    "\\Phi(x) = \\frac{1}{2} \\left( 1 + \\text{erf}\\left( \\frac{x}{\\sqrt{2}} \\right) \\right)\n",
    "$$\n"
   ]
  },
  {
   "cell_type": "markdown",
   "id": "30639590",
   "metadata": {},
   "source": [
    "`erf` 是 **误差函数（Error Function）**，定义为：\n",
    "\n",
    "$$\n",
    "\\text{erf}(x) = \\frac{2}{\\sqrt{\\pi}} \\int_0^x e^{-t^2} \\, dt\n",
    "$$"
   ]
  },
  {
   "cell_type": "markdown",
   "id": "cd77b3c6",
   "metadata": {},
   "source": [
    "### GELU 激活函数近似公式（tanh 近似）\n",
    "\n",
    "$$\n",
    "\\text{GELU}(x) \\approx 0.5 \\, x \\left( 1 + \\tanh\\left[ \\sqrt{\\frac{2}{\\pi}} \\left( x + 0.044715 \\, x^3 \\right) \\right] \\right)\n",
    "$$\n",
    "\n",
    "解释：\n",
    "- 使用 \\(\\tanh\\) 对标准 GELU 的正态累积分布函数进行近似。\n",
    "- 提高计算效率，同时保留平滑非线性特性。\n",
    "- 常用于 Transformer 和大模型的实际实现中。\n"
   ]
  },
  {
   "cell_type": "code",
   "execution_count": 2,
   "id": "57ffbace",
   "metadata": {},
   "outputs": [],
   "source": [
    "class GELU(nn.Module):\n",
    "    def __init__(self):\n",
    "        super().__init__()\n",
    "    def forward(self, x): \n",
    "        return 0.5 * x * (1 + torch.tanh( torch.sqrt(torch.tensor(2.0 / torch.pi)) *  (x + 0.044715 * torch.pow(x, 3))))"
   ]
  },
  {
   "cell_type": "code",
   "execution_count": 5,
   "id": "171c846d",
   "metadata": {},
   "outputs": [],
   "source": [
    "GPT_CONFIG_124M = { \n",
    " \"vocab_size\": 50257, # 词汇表大小\n",
    " \"context_length\": 1024, # 上下文长度\n",
    " \"emb_dim\": 768, # 嵌入维度\n",
    " \"n_heads\": 12, # 注意力头的数量\n",
    " \"n_layers\": 12, # 层数\n",
    " \"drop_rate\": 0.1, # dropout 率\n",
    " \"qkv_bias\": False # 查询-键-值偏置\n",
    "}"
   ]
  },
  {
   "cell_type": "markdown",
   "id": "d2cf45ab",
   "metadata": {},
   "source": [
    "### 比较GLEU和ReLU"
   ]
  },
  {
   "cell_type": "code",
   "execution_count": 3,
   "id": "85550f65",
   "metadata": {},
   "outputs": [],
   "source": [
    "class FeedForward(nn.Module): \n",
    " def __init__(self, cfg): \n",
    "    super().__init__() \n",
    "    self.layers = nn.Sequential( \n",
    "        nn.Linear(cfg[\"emb_dim\"], 4 * cfg[\"emb_dim\"]), \n",
    "        GELU(), \n",
    "        nn.Linear(4 * cfg[\"emb_dim\"], cfg[\"emb_dim\"]), \n",
    "    ) \n",
    " def forward(self, x): \n",
    "    return self.layers(x)"
   ]
  },
  {
   "cell_type": "code",
   "execution_count": 6,
   "id": "626d8a99",
   "metadata": {},
   "outputs": [
    {
     "name": "stdout",
     "output_type": "stream",
     "text": [
      "torch.Size([2, 3, 768])\n"
     ]
    }
   ],
   "source": [
    "ffn = FeedForward(GPT_CONFIG_124M) \n",
    "x = torch.rand(2, 3, 768) \n",
    "out = ffn(x) \n",
    "print(out.shape)"
   ]
  }
 ],
 "metadata": {
  "kernelspec": {
   "display_name": "base",
   "language": "python",
   "name": "python3"
  },
  "language_info": {
   "codemirror_mode": {
    "name": "ipython",
    "version": 3
   },
   "file_extension": ".py",
   "mimetype": "text/x-python",
   "name": "python",
   "nbconvert_exporter": "python",
   "pygments_lexer": "ipython3",
   "version": "3.12.7"
  }
 },
 "nbformat": 4,
 "nbformat_minor": 5
}
