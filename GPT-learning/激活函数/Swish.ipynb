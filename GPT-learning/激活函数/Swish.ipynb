{
 "cells": [
  {
   "cell_type": "markdown",
   "id": "a1ca4af4",
   "metadata": {},
   "source": [
    "### Swish 激活函数\n",
    "\n",
    "公式：\n",
    "\n",
    "$$\n",
    "\\text{Swish}(x) = x \\cdot \\sigma(x)\n",
    "$$\n",
    "\n",
    "其中，$\\sigma(x)$ 是 Sigmoid 函数，定义为：\n",
    "\n",
    "$$\n",
    "\\sigma(x) = \\frac{1}{1 + e^{-x}}\n",
    "$$\n"
   ]
  }
 ],
 "metadata": {
  "language_info": {
   "name": "python"
  }
 },
 "nbformat": 4,
 "nbformat_minor": 5
}
