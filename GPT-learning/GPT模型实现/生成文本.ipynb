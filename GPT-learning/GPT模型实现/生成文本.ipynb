{
 "cells": [
  {
   "cell_type": "code",
   "execution_count": 8,
   "id": "802e2011",
   "metadata": {},
   "outputs": [],
   "source": [
    "import torch\n",
    "from torch import nn\n",
    "import tiktoken\n",
    "from GPT模型架构 import GPT"
   ]
  },
  {
   "cell_type": "code",
   "execution_count": 9,
   "id": "986feb6d",
   "metadata": {},
   "outputs": [],
   "source": [
    "GPT_CONFIG_124M = { \n",
    " \"vocab_size\": 50257, # 词汇表大小\n",
    " \"context_length\": 1024, # 上下文长度\n",
    " \"emb_dim\": 768, # 嵌入维度\n",
    " \"n_heads\": 12, # 注意力头的数量\n",
    " \"n_layers\": 12, # 层数\n",
    " \"drop_rate\": 0.1, # dropout 率\n",
    " \"qkv_bias\": False # 查询-键-值偏置\n",
    "}"
   ]
  },
  {
   "cell_type": "code",
   "execution_count": 4,
   "id": "38d2acda",
   "metadata": {},
   "outputs": [],
   "source": [
    "def generate_text_simple(model, idx, max_text, context_size):\n",
    "    for _ in range(max_text):\n",
    "        idx = idx[:, -context_size:]\n",
    "        with torch.no_grad():\n",
    "            logits = model(idx)\n",
    "        logits = logits[:, -1, :]\n",
    "        idx_text = torch.softmax(logits, dim = -1)\n",
    "        idx_next = torch.argmax(idx_text, dim = -1, keepdim=True)\n",
    "        idx = torch.cat((idx, idx_next), dim = -1)\n",
    "    return idx"
   ]
  },
  {
   "cell_type": "code",
   "execution_count": 6,
   "id": "a8ed79bf",
   "metadata": {},
   "outputs": [
    {
     "name": "stdout",
     "output_type": "stream",
     "text": [
      "encoded: [15496, 11, 314, 716]\n",
      "encoded_tensor.shape: torch.Size([1, 4])\n"
     ]
    }
   ],
   "source": [
    "tokenizer = tiktoken.get_encoding(\"gpt2\")\n",
    "start_context = \"Hello, I am\" \n",
    "encoded = tokenizer.encode(start_context) \n",
    "print(\"encoded:\", encoded) \n",
    "encoded_tensor = torch.tensor(encoded).unsqueeze(0) \n",
    "print(\"encoded_tensor.shape:\", encoded_tensor.shape)"
   ]
  },
  {
   "cell_type": "code",
   "execution_count": 14,
   "id": "60015439",
   "metadata": {},
   "outputs": [
    {
     "name": "stdout",
     "output_type": "stream",
     "text": [
      "Output: tensor([[15496,    11,   314,   716, 25879, 37941, 40879, 21185, 17790, 21271]])\n",
      "Output length: 10\n"
     ]
    }
   ],
   "source": [
    "model = GPT(GPT_CONFIG_124M)\n",
    "model.eval() \n",
    "out = generate_text_simple( \n",
    " model=model, \n",
    " idx=encoded_tensor, \n",
    " max_text=6, \n",
    " context_size=GPT_CONFIG_124M[\"context_length\"] \n",
    ") \n",
    "print(\"Output:\", out) \n",
    "print(\"Output length:\", len(out[0]))"
   ]
  },
  {
   "cell_type": "code",
   "execution_count": 15,
   "id": "52efdab8",
   "metadata": {},
   "outputs": [
    {
     "name": "stdout",
     "output_type": "stream",
     "text": [
      "Hello, I am regimes ie bribe censorship combinationsHAHA\n"
     ]
    }
   ],
   "source": [
    "decoded_text = tokenizer.decode(out.squeeze(0).tolist()) \n",
    "print(decoded_text)"
   ]
  }
 ],
 "metadata": {
  "kernelspec": {
   "display_name": "base",
   "language": "python",
   "name": "python3"
  },
  "language_info": {
   "codemirror_mode": {
    "name": "ipython",
    "version": 3
   },
   "file_extension": ".py",
   "mimetype": "text/x-python",
   "name": "python",
   "nbconvert_exporter": "python",
   "pygments_lexer": "ipython3",
   "version": "3.12.7"
  }
 },
 "nbformat": 4,
 "nbformat_minor": 5
}
