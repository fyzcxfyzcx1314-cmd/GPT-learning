{
 "cells": [
  {
   "cell_type": "code",
   "execution_count": 3,
   "id": "75ac17d5",
   "metadata": {},
   "outputs": [],
   "source": [
    "import torch\n",
    "from torch import nn\n",
    "import GPT模型架构 as F"
   ]
  },
  {
   "cell_type": "code",
   "execution_count": 6,
   "id": "97fcb284",
   "metadata": {},
   "outputs": [],
   "source": [
    "GPT_CONFIG_124M = { \n",
    " \"vocab_size\": 50257, # 词汇表大小\n",
    " \"context_length\": 1024, # 上下文长度\n",
    " \"emb_dim\": 768, # 嵌入维度\n",
    " \"n_heads\": 12, # 注意力头的数量\n",
    " \"n_layers\": 12, # 层数\n",
    " \"drop_rate\": 0.1, # dropout 率\n",
    " \"qkv_bias\": False # 查询-键-值偏置\n",
    "}"
   ]
  },
  {
   "cell_type": "code",
   "execution_count": 8,
   "id": "ad09ba66",
   "metadata": {},
   "outputs": [],
   "source": [
    "class MultiHeadAttention(nn.Module):\n",
    "    def __init__(self, d_in, d_out, context_length, \n",
    "                 num_heads, dropout, qkv_bias = False):\n",
    "        super().__init__()\n",
    "        assert (d_out % num_heads == 0), \"d_out must be divisible by num_heads\"\n",
    "\n",
    "        self.d_out = d_out\n",
    "        self.num_heads = num_heads\n",
    "        self.head_dim = d_out // num_heads\n",
    "        self.wq = nn.Linear(d_in, d_out, bias=qkv_bias)\n",
    "        self.wk = nn.Linear(d_in, d_out, bias=qkv_bias)\n",
    "        self.wv = nn.Linear(d_in, d_out, bias=qkv_bias)\n",
    "        self.out_proj = nn.Linear(d_out, d_out)\n",
    "        self.dropout = nn.Dropout(dropout)\n",
    "        self.mask = torch.triu(torch.ones(context_length, context_length), diagonal=1)\n",
    "    def forward(self, x):\n",
    "        batch_size, num_tokens, d_in = x.shape\n",
    "        q = self.wq(x)\n",
    "        k = self.wk(x)\n",
    "        v = self.wv(x) # (batch_size, num_tokens, d_out)\n",
    "        q = q.view(batch_size, num_tokens, self.num_heads, self.head_dim)\n",
    "        k = k.view(batch_size, num_tokens, self.num_heads, self.head_dim)\n",
    "        v = v.view(batch_size, num_tokens, self.num_heads, self.head_dim) #(batch_size, num_tokens, num_heads, head_dim)\n",
    "\n",
    "        q = q.transpose(1, 2)\n",
    "        k = k.transpose(1, 2)\n",
    "        v = v.transpose(1, 2) #(batch_size, num_heads, num_tokens, head_dim)\n",
    "\n",
    "        #计算每个头的注意力分数\n",
    "        attn_scores = q @ k.transpose(2, 3)\n",
    "        mask_bool = self.mask.bool()[:num_tokens, :num_tokens]\n",
    "        attn_scores.masked_fill_(mask_bool, -torch.inf)\n",
    "\n",
    "        attn_weigths = torch.softmax(attn_scores / k.shape[-1] ** 0.5, dim=-1)\n",
    "        attn_weigths = self.dropout(attn_weigths)\n",
    "\n",
    "        context_vec = (attn_weigths @ v).transpose(1, 2)\n",
    "        context_vec = context_vec.contiguous().view(batch_size, num_tokens, self.d_out)\n",
    "        context_vec = self.out_proj(context_vec)\n",
    "        return context_vec"
   ]
  },
  {
   "cell_type": "code",
   "execution_count": 10,
   "id": "203e9588",
   "metadata": {},
   "outputs": [],
   "source": [
    "class TransformBlock(nn.Module):\n",
    "    def __init__(self, cfg):\n",
    "        super().__init__()\n",
    "        self.att = MultiHeadAttention(\n",
    "            d_in = cfg[\"emb_dim\"],\n",
    "            d_out = cfg[\"emb_dim\"],\n",
    "            context_length=cfg[\"context_length\"],\n",
    "            num_heads=cfg[\"n_heads\"],\n",
    "            dropout=cfg[\"drop_rate\"],\n",
    "            qkv_bias=cfg[\"qkv_bias\"]\n",
    "        )\n",
    "        self.ffn = nn.Sequential(\n",
    "            nn.Linear(cfg[\"emb_dim\"], 4 * cfg[\"emb_dim\"]),\n",
    "            nn.GELU(),\n",
    "            nn.Linear(4 * cfg[\"emb_dim\"], cfg[\"emb_dim\"])\n",
    "        )\n",
    "        self.LayerNorm1 = nn.LayerNorm(normalized_shape=cfg[\"emb_dim\"], eps = 1e-5)\n",
    "        self.LayerNorm2 = nn.LayerNorm(normalized_shape=cfg[\"emb_dim\"], eps = 1e-5)\n",
    "        self.dropout = nn.Dropout(cfg[\"drop_rate\"])\n",
    "    def forward(self, x):\n",
    "        ResNet = x\n",
    "        x = self.dropout(self.att(self.LayerNorm1(x)))\n",
    "        x = x + ResNet\n",
    "\n",
    "        ResNet = x\n",
    "        x = self.dropout(self.ffn(self.LayerNorm2(x)))\n",
    "        x = x + ResNet\n",
    "\n",
    "        return x"
   ]
  },
  {
   "cell_type": "code",
   "execution_count": 11,
   "id": "0d46f9da",
   "metadata": {},
   "outputs": [
    {
     "name": "stdout",
     "output_type": "stream",
     "text": [
      "Input shape: torch.Size([2, 4, 768])\n",
      "Output shape: torch.Size([2, 4, 768])\n"
     ]
    }
   ],
   "source": [
    "torch.manual_seed(123) \n",
    "x = torch.rand(2, 4, 768) \n",
    "block = TransformBlock(GPT_CONFIG_124M) \n",
    "output = block(x) \n",
    "print(\"Input shape:\", x.shape) \n",
    "print(\"Output shape:\", output.shape)"
   ]
  }
 ],
 "metadata": {
  "kernelspec": {
   "display_name": "base",
   "language": "python",
   "name": "python3"
  },
  "language_info": {
   "codemirror_mode": {
    "name": "ipython",
    "version": 3
   },
   "file_extension": ".py",
   "mimetype": "text/x-python",
   "name": "python",
   "nbconvert_exporter": "python",
   "pygments_lexer": "ipython3",
   "version": "3.12.7"
  }
 },
 "nbformat": 4,
 "nbformat_minor": 5
}
