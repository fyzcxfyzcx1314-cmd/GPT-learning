{
 "cells": [
  {
   "cell_type": "code",
   "execution_count": 1,
   "id": "1558b691",
   "metadata": {},
   "outputs": [],
   "source": [
    "import torch"
   ]
  },
  {
   "cell_type": "markdown",
   "id": "c3a20ed6",
   "metadata": {},
   "source": [
    "#### 使用 torch.save 函数保存模型的state_dict，即将每个层映射到其参数的字典"
   ]
  },
  {
   "cell_type": "code",
   "execution_count": null,
   "id": "39825528",
   "metadata": {},
   "outputs": [],
   "source": [
    "torch.save(model.state_dict(), \"model.pth\")"
   ]
  },
  {
   "cell_type": "markdown",
   "id": "f643c77a",
   "metadata": {},
   "source": [
    "#### 加载模型权重"
   ]
  },
  {
   "cell_type": "code",
   "execution_count": null,
   "id": "9121337a",
   "metadata": {},
   "outputs": [],
   "source": [
    "model = GPTModel(GPT_CONFIG_124M) \n",
    "model.load_state_dict(torch.load(\"model.pth\", map_location=device)) "
   ]
  },
  {
   "cell_type": "markdown",
   "id": "8ab69b56",
   "metadata": {},
   "source": [
    "#### 一些优化器也会保留有一些模型权重的额外参数，类似AdamW\n",
    "#### 所以也需要保存优化器的模型参数"
   ]
  },
  {
   "cell_type": "code",
   "execution_count": null,
   "id": "32cba2ee",
   "metadata": {},
   "outputs": [],
   "source": [
    "torch.save({ \n",
    " \"model_state_dict\": model.state_dict(), \n",
    " \"optimizer_state_dict\": optimizer.state_dict(), \n",
    " }, \n",
    " \"model_and_optimizer.pth\" \n",
    ")"
   ]
  },
  {
   "cell_type": "markdown",
   "id": "6530deee",
   "metadata": {},
   "source": [
    "#### 加载权重"
   ]
  },
  {
   "cell_type": "code",
   "execution_count": null,
   "id": "0eb74d5e",
   "metadata": {},
   "outputs": [],
   "source": [
    "checkpoint = torch.load(\"model_and_optimizer.pth\", map_location=device) \n",
    "model = GPT(GPT_CONFIG_124M) \n",
    "model.load_state_dict(checkpoint[\"model_state_dict\"]) \n",
    "optimizer = torch.optim.AdamW(model.parameters(), lr=5e-4, weight_decay=0.1) \n",
    "optimizer.load_state_dict(checkpoint[\"optimizer_state_dict\"]) \n",
    "model.train()"
   ]
  }
 ],
 "metadata": {
  "kernelspec": {
   "display_name": "base",
   "language": "python",
   "name": "python3"
  },
  "language_info": {
   "codemirror_mode": {
    "name": "ipython",
    "version": 3
   },
   "file_extension": ".py",
   "mimetype": "text/x-python",
   "name": "python",
   "nbconvert_exporter": "python",
   "pygments_lexer": "ipython3",
   "version": "3.12.7"
  }
 },
 "nbformat": 4,
 "nbformat_minor": 5
}
