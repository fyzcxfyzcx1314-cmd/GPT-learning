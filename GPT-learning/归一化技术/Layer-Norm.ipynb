{
 "cells": [
  {
   "cell_type": "markdown",
   "id": "149fa06d",
   "metadata": {},
   "source": [
    "#### 见GPT模型实现的层归一化类"
   ]
  }
 ],
 "metadata": {
  "language_info": {
   "name": "python"
  }
 },
 "nbformat": 4,
 "nbformat_minor": 5
}
