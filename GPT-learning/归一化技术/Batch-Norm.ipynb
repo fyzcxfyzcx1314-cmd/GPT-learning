{
 "cells": [
  {
   "cell_type": "markdown",
   "id": "8e3cfdca",
   "metadata": {},
   "source": [
    "#### 最早用于CNN的归一化，对整个batch进行归一化"
   ]
  }
 ],
 "metadata": {
  "language_info": {
   "name": "python"
  }
 },
 "nbformat": 4,
 "nbformat_minor": 5
}
