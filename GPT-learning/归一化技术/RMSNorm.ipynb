{
 "cells": [
  {
   "cell_type": "markdown",
   "id": "2cae0ae3",
   "metadata": {},
   "source": [
    "#### RMS归一化时层归一化的变体"
   ]
  },
  {
   "cell_type": "markdown",
   "id": "6a5531e8",
   "metadata": {},
   "source": [
    "公式：\n",
    "\n",
    "$$\n",
    "\\text{RMSNorm}(\\mathbf{x}) = \\mathbf{x} \\cdot \\frac{\\text{scale}}{\\sqrt{\\frac{1}{d} \\sum_{i=1}^{d} x_i^2 + \\epsilon}} \n",
    "$$\n",
    "\n",
    "特点：\n",
    "- **不减均值**：不像 LayerNorm 会减去 mean，RMSNorm 只归一化平方均值（RMS）。\n",
    "- **计算更快**：省略了 mean 的计算。\n",
    "- **训练更稳定**：尤其在大模型中效果明显（如 LLaMA、GPT-J）。\n",
    "- **少了偏置项 shift**：没有 β 参数。\n"
   ]
  }
 ],
 "metadata": {
  "language_info": {
   "name": "python"
  }
 },
 "nbformat": 4,
 "nbformat_minor": 5
}
