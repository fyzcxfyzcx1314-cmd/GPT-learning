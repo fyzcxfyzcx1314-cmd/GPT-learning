{
 "cells": [
  {
   "cell_type": "code",
   "execution_count": 17,
   "id": "9ac38ed6",
   "metadata": {},
   "outputs": [],
   "source": [
    "import tiktoken\n",
    "import torch \n",
    "from torch.utils.data import Dataset, DataLoader\n",
    "import pandas as pd\n",
    "from torch import nn\n",
    "import os\n",
    "from transformers import GPT2LMHeadModel, GPT2Tokenizer"
   ]
  },
  {
   "cell_type": "code",
   "execution_count": 3,
   "id": "db0f029b",
   "metadata": {},
   "outputs": [],
   "source": [
    "BASE_CONFIG = { \n",
    " \"vocab_size\": 50257, \n",
    " \"context_length\": 1024, \n",
    " \"drop_rate\": 0.0, \n",
    " \"qkv_bias\": True \n",
    "}"
   ]
  },
  {
   "cell_type": "code",
   "execution_count": 5,
   "id": "9904916a",
   "metadata": {},
   "outputs": [],
   "source": [
    "tokenizer = tiktoken.get_encoding(\"gpt2\")"
   ]
  },
  {
   "cell_type": "code",
   "execution_count": 7,
   "id": "d49c3747",
   "metadata": {},
   "outputs": [],
   "source": [
    "class SpamDataset(Dataset):\n",
    "    def __init__(self, csv_file, tokenizer, max_length, pad_id=50256):\n",
    "        self.data = pd.read_csv(csv_file)\n",
    "        self.encoded_text = [\n",
    "            tokenizer.encode(text) for text in self.data[\"Text\"]\n",
    "        ]\n",
    "        if max_length is None:\n",
    "            self.max_length = self._longest_encoded_length()\n",
    "        else:\n",
    "            self.max_length = max_length\n",
    "        self.encoded_text = [\n",
    "            encoded_text[:self.max_length] for encoded_text in self.encoded_text\n",
    "        ]\n",
    "        self.encoded_text = [\n",
    "            encoded_text + [pad_id] * (self.max_length - len(encoded_text))\n",
    "            for encoded_text in self.encoded_text\n",
    "        ]\n",
    "    def _longest_encoded_length(self):\n",
    "        max_length = 0\n",
    "        for encoded_text in self.encoded_text:\n",
    "            encoded_length = len(encoded_text)\n",
    "            if encoded_length > max_length:\n",
    "                max_length = encoded_length\n",
    "        return max_length\n",
    "    def __getitem__(self, index):\n",
    "        encoded = self.encoded_text[index]\n",
    "        label = self.data.iloc[index][\"Label\"]\n",
    "        return (\n",
    "            torch.tensor(encoded, dtype=torch.long),\n",
    "            torch.tensor(label, dtype=torch.long)\n",
    "        )\n",
    "    def __len__(self):\n",
    "        return len(self.data)"
   ]
  },
  {
   "cell_type": "code",
   "execution_count": 10,
   "id": "114bca77",
   "metadata": {},
   "outputs": [],
   "source": [
    "train_dataset = SpamDataset(\n",
    "    csv_file=\"../dataset/train.csv\",\n",
    "    tokenizer=tokenizer,\n",
    "    max_length=None\n",
    ")\n",
    "val_dataset = SpamDataset(\n",
    "    csv_file=\"../dataset/test.csv\",\n",
    "    tokenizer=tokenizer,\n",
    "    max_length=train_dataset.max_length,\n",
    ")\n",
    "test_dataset = SpamDataset(\n",
    "    csv_file=\"../dataset/test.csv\",\n",
    "    tokenizer=tokenizer,\n",
    "    max_length=train_dataset.max_length\n",
    ")"
   ]
  },
  {
   "cell_type": "code",
   "execution_count": 11,
   "id": "9c7d5cf2",
   "metadata": {},
   "outputs": [],
   "source": [
    "num_workers = 0\n",
    "batch_size = 8\n",
    "torch.manual_seed(123)\n",
    "\n",
    "train_loader = DataLoader(\n",
    "    dataset=train_dataset,\n",
    "    batch_size=batch_size,\n",
    "    shuffle=True,\n",
    "    num_workers=num_workers,\n",
    "    drop_last=True\n",
    ")\n",
    "val_loader = DataLoader(\n",
    "    dataset=val_dataset,\n",
    "    batch_size=batch_size,\n",
    "    num_workers=num_workers,\n",
    "    drop_last=False\n",
    ")\n",
    "test_loader = DataLoader(\n",
    "    dataset=test_dataset,\n",
    "    batch_size=batch_size,\n",
    "    num_workers=num_workers,\n",
    "    drop_last=False\n",
    ")"
   ]
  },
  {
   "cell_type": "code",
   "execution_count": 12,
   "id": "2d9a762d",
   "metadata": {},
   "outputs": [
    {
     "name": "stdout",
     "output_type": "stream",
     "text": [
      "Input batch dimensions: torch.Size([8, 104])\n",
      "Label batch dimensions torch.Size([8])\n"
     ]
    }
   ],
   "source": [
    "for input_batch, target_batch in train_loader: \n",
    " pass \n",
    "print(\"Input batch dimensions:\", input_batch.shape) \n",
    "print(\"Label batch dimensions\", target_batch.shape)"
   ]
  },
  {
   "cell_type": "code",
   "execution_count": 13,
   "id": "3cd3c9d4",
   "metadata": {},
   "outputs": [
    {
     "name": "stdout",
     "output_type": "stream",
     "text": [
      "130 training batches\n",
      "38 validation batches\n",
      "38 test batches\n"
     ]
    }
   ],
   "source": [
    "print(f\"{len(train_loader)} training batches\") \n",
    "print(f\"{len(val_loader)} validation batches\") \n",
    "print(f\"{len(test_loader)} test batches\")"
   ]
  },
  {
   "cell_type": "code",
   "execution_count": 14,
   "id": "83a679c3",
   "metadata": {},
   "outputs": [],
   "source": [
    "def text_to_id(text, tokenizer):\n",
    "    encoded = tokenizer.encode(text, allowed_special={'<|endoftext|>'})\n",
    "    encoded_tensor = torch.tensor(encoded).unsqueeze(0)\n",
    "    return encoded_tensor\n",
    "\n",
    "def id_to_text(id, tokenizer):\n",
    "    flat = id.squeeze(0)\n",
    "    return tokenizer.decode(flat.tolist())\n",
    "def generate_text_simple(model, idx, max_text, context_size):\n",
    "    for _ in range(max_text):\n",
    "        idx = idx[:, -context_size:]\n",
    "        with torch.no_grad():\n",
    "            logits = model(idx)\n",
    "        logits = logits[:, -1, :]\n",
    "        idx_text = torch.softmax(logits, dim = -1)\n",
    "        idx_next = torch.argmax(idx_text, dim = -1, keepdim=True)\n",
    "        idx = torch.cat((idx, idx_next), dim = -1)\n",
    "    return idx"
   ]
  },
  {
   "cell_type": "code",
   "execution_count": 18,
   "id": "30edc49d",
   "metadata": {},
   "outputs": [
    {
     "data": {
      "application/vnd.jupyter.widget-view+json": {
       "model_id": "ce2fead3b177406fb7f940c38eeed9c8",
       "version_major": 2,
       "version_minor": 0
      },
      "text/plain": [
       "config.json:   0%|          | 0.00/665 [00:00<?, ?B/s]"
      ]
     },
     "metadata": {},
     "output_type": "display_data"
    },
    {
     "name": "stderr",
     "output_type": "stream",
     "text": [
      "c:\\Users\\29611\\anaconda3\\Lib\\site-packages\\huggingface_hub\\file_download.py:143: UserWarning: `huggingface_hub` cache-system uses symlinks by default to efficiently store duplicated files but your machine does not support them in C:\\Users\\29611\\.cache\\huggingface\\hub\\models--gpt2. Caching files will still work but in a degraded version that might require more space on your disk. This warning can be disabled by setting the `HF_HUB_DISABLE_SYMLINKS_WARNING` environment variable. For more details, see https://huggingface.co/docs/huggingface_hub/how-to-cache#limitations.\n",
      "To support symlinks on Windows, you either need to activate Developer Mode or to run Python as an administrator. In order to activate developer mode, see this article: https://docs.microsoft.com/en-us/windows/apps/get-started/enable-your-device-for-development\n",
      "  warnings.warn(message)\n",
      "Xet Storage is enabled for this repo, but the 'hf_xet' package is not installed. Falling back to regular HTTP download. For better performance, install the package with: `pip install huggingface_hub[hf_xet]` or `pip install hf_xet`\n"
     ]
    },
    {
     "data": {
      "application/vnd.jupyter.widget-view+json": {
       "model_id": "77ef401e9f1f4a85ae4a75e88f4aec85",
       "version_major": 2,
       "version_minor": 0
      },
      "text/plain": [
       "model.safetensors:   0%|          | 0.00/548M [00:00<?, ?B/s]"
      ]
     },
     "metadata": {},
     "output_type": "display_data"
    },
    {
     "data": {
      "application/vnd.jupyter.widget-view+json": {
       "model_id": "26e34559a05f470a9b60ea60bf3f13f7",
       "version_major": 2,
       "version_minor": 0
      },
      "text/plain": [
       "generation_config.json:   0%|          | 0.00/124 [00:00<?, ?B/s]"
      ]
     },
     "metadata": {},
     "output_type": "display_data"
    }
   ],
   "source": [
    "model = GPT2LMHeadModel.from_pretrained(\"gpt2\")"
   ]
  },
  {
   "cell_type": "code",
   "execution_count": 22,
   "id": "f7802570",
   "metadata": {},
   "outputs": [
    {
     "name": "stderr",
     "output_type": "stream",
     "text": [
      "The attention mask and the pad token id were not set. As a consequence, you may observe unexpected behavior. Please pass your input's `attention_mask` to obtain reliable results.\n",
      "Setting `pad_token_id` to `eos_token_id`:50256 for open-end generation.\n"
     ]
    },
    {
     "name": "stdout",
     "output_type": "stream",
     "text": [
      "Every effort moves you forward.\n",
      "\n",
      "The first step is to understand the importance of your work.\n",
      "\n",
      "The second step is to understand the importance of your work.\n",
      "\n",
      "The third step is to understand the importance of your work.\n",
      "\n",
      "\n"
     ]
    }
   ],
   "source": [
    "model.eval()\n",
    "text1 = \"Every effort moves you\"\n",
    "inputs_id = tokenizer.encode(text1)\n",
    "input_tensor = torch.tensor(inputs_id).unsqueeze(0)\n",
    "with torch.no_grad():\n",
    "    output = model.generate(input_tensor, max_length = 50, num_return_sequences=1)\n",
    "generate_ids = output[0].tolist()\n",
    "generate_text1 = tokenizer.decode(generate_ids)\n",
    "print(generate_text1)"
   ]
  },
  {
   "cell_type": "code",
   "execution_count": 23,
   "id": "02dfd942",
   "metadata": {},
   "outputs": [],
   "source": [
    "for param in model.parameters():\n",
    "    param.requires_grad = False"
   ]
  },
  {
   "cell_type": "code",
   "execution_count": 24,
   "id": "fe1e1ae6",
   "metadata": {},
   "outputs": [
    {
     "name": "stdout",
     "output_type": "stream",
     "text": [
      "GPT2LMHeadModel(\n",
      "  (transformer): GPT2Model(\n",
      "    (wte): Embedding(50257, 768)\n",
      "    (wpe): Embedding(1024, 768)\n",
      "    (drop): Dropout(p=0.1, inplace=False)\n",
      "    (h): ModuleList(\n",
      "      (0-11): 12 x GPT2Block(\n",
      "        (ln_1): LayerNorm((768,), eps=1e-05, elementwise_affine=True)\n",
      "        (attn): GPT2Attention(\n",
      "          (c_attn): Conv1D(nf=2304, nx=768)\n",
      "          (c_proj): Conv1D(nf=768, nx=768)\n",
      "          (attn_dropout): Dropout(p=0.1, inplace=False)\n",
      "          (resid_dropout): Dropout(p=0.1, inplace=False)\n",
      "        )\n",
      "        (ln_2): LayerNorm((768,), eps=1e-05, elementwise_affine=True)\n",
      "        (mlp): GPT2MLP(\n",
      "          (c_fc): Conv1D(nf=3072, nx=768)\n",
      "          (c_proj): Conv1D(nf=768, nx=3072)\n",
      "          (act): NewGELUActivation()\n",
      "          (dropout): Dropout(p=0.1, inplace=False)\n",
      "        )\n",
      "      )\n",
      "    )\n",
      "    (ln_f): LayerNorm((768,), eps=1e-05, elementwise_affine=True)\n",
      "  )\n",
      "  (lm_head): Linear(in_features=768, out_features=50257, bias=False)\n",
      ")\n"
     ]
    }
   ],
   "source": [
    "print(model)"
   ]
  },
  {
   "cell_type": "code",
   "execution_count": 26,
   "id": "4347e30c",
   "metadata": {},
   "outputs": [],
   "source": [
    "model.lm_head = nn.Linear(in_features=768, out_features=2)"
   ]
  },
  {
   "cell_type": "code",
   "execution_count": 27,
   "id": "75d7b3a3",
   "metadata": {},
   "outputs": [],
   "source": [
    "transformer_blocks = model.transformer.h\n",
    "last_block_index = len(transformer_blocks) - 1\n",
    "for param in transformer_blocks[last_block_index].parameters():\n",
    "    param.requires_grad = True\n",
    "model.transformer.ln_f.requires_grad = True"
   ]
  },
  {
   "cell_type": "code",
   "execution_count": 28,
   "id": "a3b6d1e2",
   "metadata": {},
   "outputs": [
    {
     "name": "stdout",
     "output_type": "stream",
     "text": [
      "可训练参数: transformer.h.11.ln_1.weight\n",
      "可训练参数: transformer.h.11.ln_1.bias\n",
      "可训练参数: transformer.h.11.attn.c_attn.weight\n",
      "可训练参数: transformer.h.11.attn.c_attn.bias\n",
      "可训练参数: transformer.h.11.attn.c_proj.weight\n",
      "可训练参数: transformer.h.11.attn.c_proj.bias\n",
      "可训练参数: transformer.h.11.ln_2.weight\n",
      "可训练参数: transformer.h.11.ln_2.bias\n",
      "可训练参数: transformer.h.11.mlp.c_fc.weight\n",
      "可训练参数: transformer.h.11.mlp.c_fc.bias\n",
      "可训练参数: transformer.h.11.mlp.c_proj.weight\n",
      "可训练参数: transformer.h.11.mlp.c_proj.bias\n",
      "可训练参数: lm_head.weight\n",
      "可训练参数: lm_head.bias\n"
     ]
    }
   ],
   "source": [
    "# 输出确认状态\n",
    "for name, param in model.named_parameters():\n",
    "    if param.requires_grad:\n",
    "        print(f\"可训练参数: {name}\")"
   ]
  },
  {
   "cell_type": "markdown",
   "id": "424653ff",
   "metadata": {},
   "source": [
    "### 计算分类和损失"
   ]
  },
  {
   "cell_type": "code",
   "execution_count": 41,
   "id": "b615bc62",
   "metadata": {},
   "outputs": [],
   "source": [
    "def calc_accuracy_loader(data_loader, model, device, num_batches=None):\n",
    "    model.eval()\n",
    "    correct_predictions, num_examples = 0, 0\n",
    "    if num_batches is None:\n",
    "        num_batches = len(data_loader)\n",
    "    else:\n",
    "        num_batches = min(num_batches, len(data_loader))\n",
    "    for i, (inputs, targets) in enumerate(data_loader):\n",
    "        if i < num_batches:\n",
    "            inputs.to(device)\n",
    "            targets.to(device)\n",
    "            with torch.no_grad():\n",
    "                output = model(inputs)\n",
    "                logits = output.logits[:, -1, :]\n",
    "            prediction_label = torch.argmax(logits, dim = -1)\n",
    "            num_examples += len(prediction_label)\n",
    "            correct_predictions += ((prediction_label == targets).sum().item())\n",
    "        else:\n",
    "            break\n",
    "    if num_examples == 0:\n",
    "        return 1\n",
    "    return correct_predictions / num_examples"
   ]
  },
  {
   "cell_type": "code",
   "execution_count": 42,
   "id": "d133e389",
   "metadata": {},
   "outputs": [
    {
     "name": "stdout",
     "output_type": "stream",
     "text": [
      "Training accuracy: 46.25%\n",
      "Validation accuracy: 57.50%\n",
      "Test accuracy: 57.50%\n"
     ]
    }
   ],
   "source": [
    "device = torch.device(\"cuda\" if torch.cuda.is_available() else \"cpu\") \n",
    "model.to(device) \n",
    "torch.manual_seed(123) \n",
    "train_accuracy = calc_accuracy_loader( \n",
    " train_loader, model, device, num_batches=10 \n",
    ") \n",
    "val_accuracy = calc_accuracy_loader( \n",
    " val_loader, model, device, num_batches=10 \n",
    ") \n",
    "test_accuracy = calc_accuracy_loader( \n",
    " test_loader, model, device, num_batches=10 \n",
    ") \n",
    "print(f\"Training accuracy: {train_accuracy*100:.2f}%\") \n",
    "print(f\"Validation accuracy: {val_accuracy*100:.2f}%\") \n",
    "print(f\"Test accuracy: {test_accuracy*100:.2f}%\")"
   ]
  },
  {
   "cell_type": "code",
   "execution_count": 43,
   "id": "66e4d041",
   "metadata": {},
   "outputs": [],
   "source": [
    "def calc_loss_batch(input, target, model, device):\n",
    "    input.to(device)\n",
    "    target.to(device)\n",
    "    output = model(input)\n",
    "    logits = output.logits[:, -1, :]\n",
    "    loss = torch.nn.functional.cross_entropy(logits, target)\n",
    "    return loss"
   ]
  },
  {
   "cell_type": "code",
   "execution_count": 46,
   "id": "a79f6964",
   "metadata": {},
   "outputs": [],
   "source": [
    "def calc_loss_loader(data_loader, model, device, num_batches=None):\n",
    "    total_loss = 0.0\n",
    "    if len(data_loader) == 0:\n",
    "        return float(\"nan\")\n",
    "    elif num_batches == None:\n",
    "        num_batches = len(data_loader)\n",
    "    else:\n",
    "        num_batches = min(num_batches, len(data_loader))\n",
    "    for i, (inputs, targets) in enumerate(data_loader):\n",
    "        if i < num_batches:\n",
    "            loss = calc_loss_batch(inputs, targets, model, device)\n",
    "            total_loss += loss.item()\n",
    "        else:\n",
    "            break\n",
    "    return total_loss / num_batches"
   ]
  },
  {
   "cell_type": "code",
   "execution_count": 47,
   "id": "8f35f508",
   "metadata": {},
   "outputs": [
    {
     "name": "stdout",
     "output_type": "stream",
     "text": [
      "Training loss: 2.631\n",
      "Validation loss: 2.134\n",
      "Test loss: 2.134\n"
     ]
    }
   ],
   "source": [
    "with torch.no_grad(): \n",
    " train_loss = calc_loss_loader( \n",
    " train_loader, model, device, num_batches=5 \n",
    " ) \n",
    " val_loss = calc_loss_loader(val_loader, model, device, num_batches=5) \n",
    " test_loss = calc_loss_loader(test_loader, model, device, num_batches=5) \n",
    "print(f\"Training loss: {train_loss:.3f}\") \n",
    "print(f\"Validation loss: {val_loss:.3f}\") \n",
    "print(f\"Test loss: {test_loss:.3f}\")"
   ]
  },
  {
   "cell_type": "code",
   "execution_count": 48,
   "id": "3bcce4ac",
   "metadata": {},
   "outputs": [],
   "source": [
    "def evaluate_model(mode, train_loader, val_loader, device, eval_iter):\n",
    "    model.eval()\n",
    "    with torch.no_grad():\n",
    "        train_loss = calc_loss_loader(\n",
    "            train_loader, model, device, num_batches=eval_iter\n",
    "        )\n",
    "        val_loss = calc_loss_loader(\n",
    "            val_loader, model, device, num_batches=eval_iter\n",
    "        )\n",
    "    model.train()\n",
    "    return train_loss, val_loss"
   ]
  },
  {
   "cell_type": "code",
   "execution_count": 50,
   "id": "f4abb7b2",
   "metadata": {},
   "outputs": [],
   "source": [
    "def classifier_finetuning(model, train_loader, val_loader, optimizer, \n",
    "                          device, num_epochs, eval_freq, eval_iter):\n",
    "    train_losses, val_losses, train_accs, val_accs = [], [], [], []\n",
    "    examples_seen, global_step = 0, -1\n",
    "    for epoch in range(num_epochs):\n",
    "        model.train()\n",
    "        for input, target in train_loader:\n",
    "            optimizer.zero_grad()\n",
    "            loss = calc_loss_batch(input, target, model, device)\n",
    "            loss.backward()\n",
    "            optimizer.step()\n",
    "            examples_seen += input.shape[0]\n",
    "            global_step += 1\n",
    "\n",
    "            if global_step % eval_freq == 0:\n",
    "                train_loss, val_loss = evaluate_model(\n",
    "                    model, train_loader, val_loader, device, eval_iter\n",
    "                )\n",
    "                train_losses.append(train_loss)\n",
    "                val_losses.append(val_loss)\n",
    "                print(f\"Ep {epoch+1} (Step {global_step:06d}): \" \n",
    "                      f\"Train loss {train_loss:.3f}, \" \n",
    "                      f\"Val loss {val_loss:.3f}\")\n",
    "        train_accuracy = calc_accuracy_loader(train_loader, model, device, num_batches=eval_iter)\n",
    "        val_accuracy = calc_accuracy_loader(val_loader, model, device, num_batches=eval_iter)\n",
    "        print(f\"Training accuracy: {train_accuracy*100:.2f}% | \", end=\"\") \n",
    "        print(f\"Validation accuracy: {val_accuracy*100:.2f}%\") \n",
    "        train_accs.append(train_accuracy) \n",
    "        val_accs.append(val_accuracy)\n",
    "    return train_losses, val_losses, train_accs, val_accs, examples_seen"
   ]
  },
  {
   "cell_type": "code",
   "execution_count": 51,
   "id": "8717f61c",
   "metadata": {},
   "outputs": [
    {
     "name": "stdout",
     "output_type": "stream",
     "text": [
      "Ep 1 (Step 000000): Train loss 2.168, Val loss 2.054\n",
      "Ep 1 (Step 000050): Train loss 0.698, Val loss 0.665\n",
      "Ep 1 (Step 000100): Train loss 0.656, Val loss 0.638\n",
      "Training accuracy: 62.50% | Validation accuracy: 57.50%\n",
      "Ep 2 (Step 000150): Train loss 0.614, Val loss 0.592\n",
      "Ep 2 (Step 000200): Train loss 0.547, Val loss 0.507\n",
      "Ep 2 (Step 000250): Train loss 0.345, Val loss 0.302\n",
      "Training accuracy: 97.50% | Validation accuracy: 97.50%\n",
      "Ep 3 (Step 000300): Train loss 0.204, Val loss 0.127\n",
      "Ep 3 (Step 000350): Train loss 0.077, Val loss 0.063\n",
      "Training accuracy: 100.00% | Validation accuracy: 97.50%\n",
      "Ep 4 (Step 000400): Train loss 0.050, Val loss 0.068\n",
      "Ep 4 (Step 000450): Train loss 0.133, Val loss 0.053\n",
      "Ep 4 (Step 000500): Train loss 0.040, Val loss 0.042\n",
      "Training accuracy: 97.50% | Validation accuracy: 97.50%\n",
      "Ep 5 (Step 000550): Train loss 0.027, Val loss 0.035\n",
      "Ep 5 (Step 000600): Train loss 0.010, Val loss 0.041\n",
      "Training accuracy: 97.50% | Validation accuracy: 97.50%\n",
      "Training completed in 12.66 minutes.\n"
     ]
    }
   ],
   "source": [
    "import time \n",
    "start_time = time.time() \n",
    "torch.manual_seed(123) \n",
    "optimizer = torch.optim.AdamW(model.parameters(), lr=5e-5, weight_decay=0.1) \n",
    "num_epochs = 5 \n",
    "train_losses, val_losses, train_accs, val_accs, example_seen = classifier_finetuning(\n",
    "    model, train_loader, val_loader, optimizer=optimizer, device=device,\n",
    "    num_epochs=num_epochs, eval_freq=50, eval_iter=5\n",
    ") \n",
    "end_time = time.time() \n",
    "execution_time_minutes = (end_time - start_time) / 60 \n",
    "print(f\"Training completed in {execution_time_minutes:.2f} minutes.\")"
   ]
  },
  {
   "cell_type": "code",
   "execution_count": 52,
   "id": "2ef0c8a4",
   "metadata": {},
   "outputs": [
    {
     "data": {
      "image/png": "[encoded data removed]",
      "text/plain": [
       "<Figure size 500x300 with 2 Axes>"
      ]
     },
     "metadata": {},
     "output_type": "display_data"
    }
   ],
   "source": [
    "import matplotlib.pyplot as plt\n",
    "\n",
    "def plot_values(epochs_seen, examples_seen, train_values, val_values, \n",
    "    label=\"loss\"): \n",
    "    fig, ax1 = plt.subplots(figsize=(5, 3))\n",
    "    ax1.plot(epochs_seen, train_values, label=f\"Training {label}\") \n",
    "    ax1.plot( epochs_seen, val_values, linestyle=\"-.\", label=f\"Validation {label}\") \n",
    "    ax1.set_xlabel(\"Epochs\") \n",
    "    ax1.set_ylabel(label.capitalize()) \n",
    "    ax1.legend() \n",
    "    ax2 = ax1.twiny() \n",
    "    ax2.plot(examples_seen, train_values, alpha=0) \n",
    "    ax2.set_xlabel(\"Examples seen\") \n",
    "    fig.tight_layout() \n",
    "    plt.savefig(f\"{label}-plot.pdf\") \n",
    "    plt.show()\n",
    "epochs_tensor = torch.linspace(0, num_epochs, len(train_losses)) \n",
    "examples_seen_tensor = torch.linspace(0, example_seen, len(train_losses)) \n",
    "plot_values(epochs_tensor, examples_seen_tensor, train_losses, val_losses)"
   ]
  },
  {
   "cell_type": "code",
   "execution_count": 53,
   "id": "69398b76",
   "metadata": {},
   "outputs": [
    {
     "data": {
      "image/png": "[encoded data removed]",
      "text/plain": [
       "<Figure size 500x300 with 2 Axes>"
      ]
     },
     "metadata": {},
     "output_type": "display_data"
    }
   ],
   "source": [
    "epochs_tensor = torch.linspace(0, num_epochs, len(train_accs)) \n",
    "examples_seen_tensor = torch.linspace(0, example_seen, len(train_accs)) \n",
    "plot_values(\n",
    "    epochs_tensor, examples_seen_tensor, train_accs, val_accs, \n",
    "    label=\"accuracy\")"
   ]
  },
  {
   "cell_type": "code",
   "execution_count": 54,
   "id": "dbb4e26e",
   "metadata": {},
   "outputs": [
    {
     "name": "stdout",
     "output_type": "stream",
     "text": [
      "Training accuracy: 97.79%\n",
      "Validation accuracy: 96.33%\n",
      "Test accuracy: 96.33%\n"
     ]
    }
   ],
   "source": [
    "train_accuracy = calc_accuracy_loader(train_loader, model, device) \n",
    "val_accuracy = calc_accuracy_loader(val_loader, model, device) \n",
    "test_accuracy = calc_accuracy_loader(test_loader, model, device)\n",
    "print(f\"Training accuracy: {train_accuracy*100:.2f}%\") \n",
    "print(f\"Validation accuracy: {val_accuracy*100:.2f}%\") \n",
    "print(f\"Test accuracy: {test_accuracy*100:.2f}%\")"
   ]
  },
  {
   "cell_type": "code",
   "execution_count": 58,
   "id": "9672d33b",
   "metadata": {},
   "outputs": [
    {
     "name": "stdout",
     "output_type": "stream",
     "text": [
      "['T_destination', '__annotations__', '__call__', '__class__', '__delattr__', '__dict__', '__dir__', '__doc__', '__eq__', '__format__', '__ge__', '__getattr__', '__getattribute__', '__getstate__', '__gt__', '__hash__', '__init__', '__init_subclass__', '__le__', '__lt__', '__module__', '__ne__', '__new__', '__reduce__', '__reduce_ex__', '__repr__', '__setattr__', '__setstate__', '__sizeof__', '__str__', '__subclasshook__', '__weakref__', '_adjust_missing_and_unexpected_keys', '_apply', '_assisted_decoding', '_auto_class', '_backward_compatibility_gradient_checkpointing', '_backward_hooks', '_backward_pre_hooks', '_beam_search', '_beam_search_has_unfinished_sequences', '_buffers', '_cache_dependant_input_preparation', '_cache_dependant_input_preparation_exporting', '_call_impl', '_can_compile_fullgraph', '_can_record_outputs', '_can_set_attn_implementation', '_check_and_adjust_attn_implementation', '_check_early_stop_heuristic', '_checkpoint_conversion_mapping', '_compiled_call_impl', '_convert_head_mask_to_5d', '_copy_lm_head_original_to_resized', '_create_repo', '_dispatch_accelerate_model', '_ep_plan', '_expand_inputs_for_generation', '_extract_generation_mode_kwargs', '_fix_state_dict_key_on_load', '_fix_state_dict_key_on_save', '_fix_state_dict_keys_on_save', '_flash_attn_2_can_dispatch', '_flash_attn_3_can_dispatch', '_flatten_beam_dim', '_flex_attn_can_dispatch', '_forward_hooks', '_forward_hooks_always_called', '_forward_hooks_with_kwargs', '_forward_pre_hooks', '_forward_pre_hooks_with_kwargs', '_from_config', '_gather_beams', '_get_backward_hooks', '_get_backward_pre_hooks', '_get_cache', '_get_candidate_generator', '_get_deprecated_gen_repo', '_get_files_timestamps', '_get_initial_cache_position', '_get_key_renaming_mapping', '_get_logits_processor', '_get_name', '_get_no_split_modules', '_get_resized_embeddings', '_get_resized_lm_head', '_get_running_beams_for_next_iteration', '_get_stopping_criteria', '_get_top_k_continuations', '_has_unfinished_sequences', '_hf_peft_config_loaded', '_hook_rss_memory_post_forward', '_hook_rss_memory_pre_forward', '_init_added_embeddings_weights_with_mean', '_init_added_lm_head_bias_with_mean', '_init_added_lm_head_weights_with_mean', '_init_weights', '_initialize_missing_keys', '_initialize_weights', '_input_embed_layer', '_is_full_backward_hook', '_is_hf_initialized', '_is_stateful', '_keep_in_fp32_modules', '_keep_in_fp32_modules', '_keep_in_fp32_modules_strict', '_keep_in_fp32_modules_strict', '_keys_to_ignore_on_load_missing', '_keys_to_ignore_on_load_unexpected', '_keys_to_ignore_on_save', '_load_from_flax', '_load_from_state_dict', '_load_from_tf', '_load_pretrained_model', '_load_state_dict_post_hooks', '_load_state_dict_pre_hooks', '_maybe_initialize_input_ids_for_generation', '_maybe_warn_non_full_backward_hook', '_merge_criteria_processor_list', '_modules', '_move_missing_keys_from_meta_to_cpu', '_named_members', '_no_split_modules', '_no_split_modules', '_non_persistent_buffers_set', '_parameters', '_pp_plan', '_pp_plan', '_prefill_chunking', '_prepare_attention_mask_for_generation', '_prepare_cache_for_generation', '_prepare_decoder_input_ids_for_generation', '_prepare_encoder_decoder_kwargs_for_generation', '_prepare_generated_length', '_prepare_generation_config', '_prepare_model_inputs', '_prepare_special_tokens', '_register_load_state_dict_pre_hook', '_register_state_dict_hook', '_replicate_for_data_parallel', '_resize_token_embeddings', '_sample', '_save_to_state_dict', '_sdpa_can_dispatch', '_set_default_dtype', '_set_gradient_checkpointing', '_skip_keys_device_placement', '_slow_forward', '_state_dict_hooks', '_state_dict_pre_hooks', '_supports_attention_backend', '_supports_default_dynamic_cache', '_supports_flash_attn', '_supports_flex_attn', '_supports_logits_to_keep', '_supports_sdpa', '_tie_encoder_decoder_weights', '_tie_or_clone_weights', '_tied_weights_keys', '_tp_plan', '_tp_plan', '_tp_size', '_unflatten_beam_dim', '_update_finished_beams', '_update_model_kwargs_for_generation', '_upload_modified_files', '_valid_auto_compile_criteria', '_validate_generated_length', '_validate_generation_mode', '_validate_model_kwargs', '_version', '_wrapped_call_impl', 'active_adapters', 'add_adapter', 'add_memory_hooks', 'add_model_tags', 'add_module', 'apply', 'base_model', 'base_model_prefix', 'bfloat16', 'buffers', 'call_super_init', 'can_generate', 'can_record_outputs', 'children', 'compile', 'compute_transition_scores', 'config', 'config_class', 'cpu', 'create_extended_attention_mask_for_decoder', 'cuda', 'delete_adapter', 'deparallelize', 'dequantize', 'device', 'device_map', 'disable_adapters', 'disable_input_require_grads', 'double', 'dtype', 'dummy_inputs', 'dump_patches', 'enable_adapters', 'enable_input_require_grads', 'estimate_tokens', 'eval', 'extra_repr', 'float', 'floating_point_ops', 'forward', 'framework', 'from_pretrained', 'generate', 'generate_batch', 'generation_config', 'get_adapter_state_dict', 'get_buffer', 'get_compiled_call', 'get_correct_attn_implementation', 'get_decoder', 'get_extended_attention_mask', 'get_extra_state', 'get_head_mask', 'get_init_context', 'get_input_embeddings', 'get_memory_footprint', 'get_output_embeddings', 'get_parameter', 'get_parameter_or_buffer', 'get_position_embeddings', 'get_submodule', 'gradient_checkpointing_disable', 'gradient_checkpointing_enable', 'half', 'heal_tokens', 'init_continuous_batching', 'init_weights', 'initialize_weights', 'invert_attention_mask', 'ipu', 'is_backend_compatible', 'is_gradient_checkpointing', 'is_parallelizable', 'kernelize', 'lm_head', 'load_adapter', 'load_custom_generate', 'load_state_dict', 'load_tf_weights', 'loss_function', 'loss_type', 'main_input_name', 'model_parallel', 'model_tags', 'modules', 'mtia', 'name_or_path', 'named_buffers', 'named_children', 'named_modules', 'named_parameters', 'num_parameters', 'parallelize', 'parameters', 'post_init', 'pp_plan', 'prepare_inputs_for_generation', 'prune_heads', 'push_to_hub', 'register_backward_hook', 'register_buffer', 'register_for_auto_class', 'register_forward_hook', 'register_forward_pre_hook', 'register_full_backward_hook', 'register_full_backward_pre_hook', 'register_load_state_dict_post_hook', 'register_load_state_dict_pre_hook', 'register_module', 'register_parameter', 'register_state_dict_post_hook', 'register_state_dict_pre_hook', 'requires_grad_', 'reset_memory_hooks_state', 'resize_position_embeddings', 'resize_token_embeddings', 'retrieve_modules_from_names', 'reverse_bettertransformer', 'save_pretrained', 'set_adapter', 'set_attn_implementation', 'set_decoder', 'set_extra_state', 'set_input_embeddings', 'set_output_embeddings', 'set_submodule', 'share_memory', 'smart_apply', 'state_dict', 'supports_gradient_checkpointing', 'supports_pp_plan', 'supports_tp_plan', 'tie_embeddings_and_encoder_decoder', 'tie_weights', 'to', 'to_bettertransformer', 'to_empty', 'tp_plan', 'tp_size', 'train', 'training', 'transformer', 'type', 'use_kernels', 'warn_if_padding_and_no_attention_mask', 'warnings_issued', 'xpu', 'zero_grad']\n"
     ]
    }
   ],
   "source": [
    "print(dir(model))"
   ]
  },
  {
   "cell_type": "code",
   "execution_count": 63,
   "id": "6a0d3a92",
   "metadata": {},
   "outputs": [],
   "source": [
    "def calssify_review(text, model, tokenizer, device, max_length=None,\n",
    "                    pad_token = 50256):\n",
    "    model.eval()\n",
    "    input_ids = tokenizer.encode(text)\n",
    "    support_context_length = model.transformer.wte.weight.shape[1]\n",
    "    input_ids = input_ids[:min(max_length, support_context_length)]\n",
    "    \n",
    "    input_ids += [pad_token] * (max_length - len(input_ids))\n",
    "    input_ids = torch.tensor(input_ids, device = device).unsqueeze(0)\n",
    "    with torch.no_grad():\n",
    "        output = model(input_ids)\n",
    "        logits = output.logits[:, -1, :]\n",
    "    prediction_label = torch.argmax(logits, dim = -1).item()\n",
    "    return \"垃圾邮件\" if prediction_label == 1 else \"不是垃圾邮件\""
   ]
  },
  {
   "cell_type": "code",
   "execution_count": 64,
   "id": "6f61b570",
   "metadata": {},
   "outputs": [
    {
     "name": "stdout",
     "output_type": "stream",
     "text": [
      "垃圾邮件\n"
     ]
    }
   ],
   "source": [
    "text_1 = ( \n",
    " \"You are a winner you have been specially\" \n",
    " \" selected to receive $1000 cash or a $2000 award.\" \n",
    ") \n",
    "print(calssify_review(text_1, model, tokenizer, device, max_length=train_dataset.max_length))"
   ]
  },
  {
   "cell_type": "code",
   "execution_count": 66,
   "id": "71d50a09",
   "metadata": {},
   "outputs": [
    {
     "name": "stdout",
     "output_type": "stream",
     "text": [
      "不是垃圾邮件\n"
     ]
    }
   ],
   "source": [
    "text_2 = ( \n",
    " \"Hey, just wanted to check if we're still on\" \n",
    " \" for dinner tonight? Let me know!\" \n",
    ") \n",
    "print(calssify_review( \n",
    " text_2, model, tokenizer, device, max_length=train_dataset.max_length \n",
    "))"
   ]
  },
  {
   "cell_type": "code",
   "execution_count": 67,
   "id": "960a4b5a",
   "metadata": {},
   "outputs": [],
   "source": [
    "torch.save(model.state_dict(), \"review_classifier.pth\")"
   ]
  }
 ],
 "metadata": {
  "kernelspec": {
   "display_name": "base",
   "language": "python",
   "name": "python3"
  },
  "language_info": {
   "codemirror_mode": {
    "name": "ipython",
    "version": 3
   },
   "file_extension": ".py",
   "mimetype": "text/x-python",
   "name": "python",
   "nbconvert_exporter": "python",
   "pygments_lexer": "ipython3",
   "version": "3.12.7"
  }
 },
 "nbformat": 4,
 "nbformat_minor": 5
}
